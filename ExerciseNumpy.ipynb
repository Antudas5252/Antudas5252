{
  "cells": [
    {
      "cell_type": "markdown",
      "metadata": {
        "id": "view-in-github",
        "colab_type": "text"
      },
      "source": [
        "<a href=\"https://colab.research.google.com/github/Antudas5252/Antudas5252/blob/main/ExerciseNumpy.ipynb\" target=\"_parent\"><img src=\"https://colab.research.google.com/assets/colab-badge.svg\" alt=\"Open In Colab\"/></a>"
      ]
    },
    {
      "cell_type": "markdown",
      "metadata": {
        "id": "CyByn8DXAdK0"
      },
      "source": [
        "#Ex:01-Import the numpy package under the name np()"
      ]
    },
    {
      "cell_type": "code",
      "execution_count": null,
      "metadata": {
        "id": "IRJcx7jBAgVe"
      },
      "outputs": [],
      "source": [
        "import numpy as np"
      ]
    },
    {
      "cell_type": "markdown",
      "metadata": {
        "id": "TiZS0b7-Asui"
      },
      "source": [
        "#Ex:02-Print the numpy version and the configuration()"
      ]
    },
    {
      "cell_type": "code",
      "execution_count": null,
      "metadata": {
        "colab": {
          "base_uri": "https://localhost:8080/"
        },
        "id": "XgcjrAjhAwlP",
        "outputId": "96876f9a-81fa-4a3f-b27e-bde97c69a3f4"
      },
      "outputs": [
        {
          "name": "stdout",
          "output_type": "stream",
          "text": [
            "2.0.2\n",
            "Build Dependencies:\n",
            "  blas:\n",
            "    detection method: pkgconfig\n",
            "    found: true\n",
            "    include directory: /opt/_internal/cpython-3.11.8/lib/python3.11/site-packages/scipy_openblas64/include\n",
            "    lib directory: /opt/_internal/cpython-3.11.8/lib/python3.11/site-packages/scipy_openblas64/lib\n",
            "    name: scipy-openblas\n",
            "    openblas configuration: OpenBLAS 0.3.27  USE64BITINT DYNAMIC_ARCH NO_AFFINITY\n",
            "      Zen MAX_THREADS=64\n",
            "    pc file directory: /project/.openblas\n",
            "    version: 0.3.27\n",
            "  lapack:\n",
            "    detection method: pkgconfig\n",
            "    found: true\n",
            "    include directory: /opt/_internal/cpython-3.11.8/lib/python3.11/site-packages/scipy_openblas64/include\n",
            "    lib directory: /opt/_internal/cpython-3.11.8/lib/python3.11/site-packages/scipy_openblas64/lib\n",
            "    name: scipy-openblas\n",
            "    openblas configuration: OpenBLAS 0.3.27  USE64BITINT DYNAMIC_ARCH NO_AFFINITY\n",
            "      Zen MAX_THREADS=64\n",
            "    pc file directory: /project/.openblas\n",
            "    version: 0.3.27\n",
            "Compilers:\n",
            "  c:\n",
            "    commands: cc\n",
            "    linker: ld.bfd\n",
            "    name: gcc\n",
            "    version: 10.2.1\n",
            "  c++:\n",
            "    commands: c++\n",
            "    linker: ld.bfd\n",
            "    name: gcc\n",
            "    version: 10.2.1\n",
            "  cython:\n",
            "    commands: cython\n",
            "    linker: cython\n",
            "    name: cython\n",
            "    version: 3.0.11\n",
            "Machine Information:\n",
            "  build:\n",
            "    cpu: x86_64\n",
            "    endian: little\n",
            "    family: x86_64\n",
            "    system: linux\n",
            "  host:\n",
            "    cpu: x86_64\n",
            "    endian: little\n",
            "    family: x86_64\n",
            "    system: linux\n",
            "Python Information:\n",
            "  path: /tmp/build-env-zm_4loqi/bin/python\n",
            "  version: '3.11'\n",
            "SIMD Extensions:\n",
            "  baseline:\n",
            "  - SSE\n",
            "  - SSE2\n",
            "  - SSE3\n",
            "  found:\n",
            "  - SSSE3\n",
            "  - SSE41\n",
            "  - POPCNT\n",
            "  - SSE42\n",
            "  - AVX\n",
            "  - F16C\n",
            "  - FMA3\n",
            "  - AVX2\n",
            "  not found:\n",
            "  - AVX512F\n",
            "  - AVX512CD\n",
            "  - AVX512_KNL\n",
            "  - AVX512_KNM\n",
            "  - AVX512_SKX\n",
            "  - AVX512_CLX\n",
            "  - AVX512_CNL\n",
            "  - AVX512_ICL\n",
            "\n"
          ]
        }
      ],
      "source": [
        "print(np.__version__)\n",
        "np.show_config()"
      ]
    },
    {
      "cell_type": "markdown",
      "metadata": {
        "id": "XVbsj_mYBikJ"
      },
      "source": [
        "#Ex:03-Create a null vector of size 10()"
      ]
    },
    {
      "cell_type": "code",
      "execution_count": null,
      "metadata": {
        "colab": {
          "base_uri": "https://localhost:8080/"
        },
        "id": "vCJ4sHJ-Bkzo",
        "outputId": "098e5786-2ef7-494b-d981-16691440da36"
      },
      "outputs": [
        {
          "name": "stdout",
          "output_type": "stream",
          "text": [
            "[[0 0]\n",
            " [0 0]\n",
            " [0 0]\n",
            " [0 0]\n",
            " [0 0]]\n"
          ]
        }
      ],
      "source": [
        "vec_01 = np.full(shape=(5,2),fill_value=0)\n",
        "print(vec_01)"
      ]
    },
    {
      "cell_type": "code",
      "execution_count": null,
      "metadata": {
        "colab": {
          "base_uri": "https://localhost:8080/"
        },
        "id": "X0oGgQ1UCILr",
        "outputId": "2a0a7102-e909-4abb-cfc4-ac39777da6a9"
      },
      "outputs": [
        {
          "data": {
            "text/plain": [
              "10"
            ]
          },
          "execution_count": 9,
          "metadata": {},
          "output_type": "execute_result"
        }
      ],
      "source": [
        "vec_01.size"
      ]
    },
    {
      "cell_type": "code",
      "execution_count": null,
      "metadata": {
        "id": "bZNTVGsbCp3Z"
      },
      "outputs": [],
      "source": [
        "vec_01=np.zeros(10)"
      ]
    },
    {
      "cell_type": "code",
      "execution_count": null,
      "metadata": {
        "colab": {
          "base_uri": "https://localhost:8080/"
        },
        "id": "Vop5msZFCyhe",
        "outputId": "2d66552d-5fc3-4093-a87c-d1ee5716abb1"
      },
      "outputs": [
        {
          "data": {
            "text/plain": [
              "array([0., 0., 0., 0., 0., 0., 0., 0., 0., 0.])"
            ]
          },
          "execution_count": 11,
          "metadata": {},
          "output_type": "execute_result"
        }
      ],
      "source": [
        "vec_01"
      ]
    },
    {
      "cell_type": "markdown",
      "metadata": {
        "id": "-EPk55mAC7oX"
      },
      "source": [
        "#Ex:04-How to find the memory size of any array ()"
      ]
    },
    {
      "cell_type": "code",
      "execution_count": null,
      "metadata": {
        "colab": {
          "base_uri": "https://localhost:8080/"
        },
        "id": "17rzrGDcC-rw",
        "outputId": "71275a1e-30fc-4c89-fec9-4f082619b810"
      },
      "outputs": [
        {
          "name": "stdout",
          "output_type": "stream",
          "text": [
            "80\n"
          ]
        }
      ],
      "source": [
        "print(vec_01.nbytes)\n"
      ]
    },
    {
      "cell_type": "code",
      "execution_count": null,
      "metadata": {
        "colab": {
          "base_uri": "https://localhost:8080/"
        },
        "id": "fVhF55ERDVTW",
        "outputId": "99a343a3-8b98-4a81-9059-11160f6db88e"
      },
      "outputs": [
        {
          "name": "stdout",
          "output_type": "stream",
          "text": [
            "80\n"
          ]
        }
      ],
      "source": [
        "print(vec_01.size * vec_01.itemsize)"
      ]
    },
    {
      "cell_type": "markdown",
      "metadata": {
        "id": "6gLtbky8EnIz"
      },
      "source": [
        "#Ex:05-How to get the documentation of the numpy add function from the command line?"
      ]
    },
    {
      "cell_type": "code",
      "execution_count": null,
      "metadata": {
        "colab": {
          "base_uri": "https://localhost:8080/"
        },
        "id": "RHpjKB4BE-Ec",
        "outputId": "7cb5a066-1d48-490f-e5c3-b98e683ca2f3"
      },
      "outputs": [
        {
          "name": "stdout",
          "output_type": "stream",
          "text": [
            "Help on ufunc:\n",
            "\n",
            "add = <ufunc 'add'>\n",
            "    add(x1, x2, /, out=None, *, where=True, casting='same_kind', order='K', dtype=None, subok=True[, signature])\n",
            "    \n",
            "    Add arguments element-wise.\n",
            "    \n",
            "    Parameters\n",
            "    ----------\n",
            "    x1, x2 : array_like\n",
            "        The arrays to be added.\n",
            "        If ``x1.shape != x2.shape``, they must be broadcastable to a common\n",
            "        shape (which becomes the shape of the output).\n",
            "    out : ndarray, None, or tuple of ndarray and None, optional\n",
            "        A location into which the result is stored. If provided, it must have\n",
            "        a shape that the inputs broadcast to. If not provided or None,\n",
            "        a freshly-allocated array is returned. A tuple (possible only as a\n",
            "        keyword argument) must have length equal to the number of outputs.\n",
            "    where : array_like, optional\n",
            "        This condition is broadcast over the input. At locations where the\n",
            "        condition is True, the `out` array will be set to the ufunc result.\n",
            "        Elsewhere, the `out` array will retain its original value.\n",
            "        Note that if an uninitialized `out` array is created via the default\n",
            "        ``out=None``, locations within it where the condition is False will\n",
            "        remain uninitialized.\n",
            "    **kwargs\n",
            "        For other keyword-only arguments, see the\n",
            "        :ref:`ufunc docs <ufuncs.kwargs>`.\n",
            "    \n",
            "    Returns\n",
            "    -------\n",
            "    add : ndarray or scalar\n",
            "        The sum of `x1` and `x2`, element-wise.\n",
            "        This is a scalar if both `x1` and `x2` are scalars.\n",
            "    \n",
            "    Notes\n",
            "    -----\n",
            "    Equivalent to `x1` + `x2` in terms of array broadcasting.\n",
            "    \n",
            "    Examples\n",
            "    --------\n",
            "    >>> np.add(1.0, 4.0)\n",
            "    5.0\n",
            "    >>> x1 = np.arange(9.0).reshape((3, 3))\n",
            "    >>> x2 = np.arange(3.0)\n",
            "    >>> np.add(x1, x2)\n",
            "    array([[  0.,   2.,   4.],\n",
            "           [  3.,   5.,   7.],\n",
            "           [  6.,   8.,  10.]])\n",
            "    \n",
            "    The ``+`` operator can be used as a shorthand for ``np.add`` on ndarrays.\n",
            "    \n",
            "    >>> x1 = np.arange(9.0).reshape((3, 3))\n",
            "    >>> x2 = np.arange(3.0)\n",
            "    >>> x1 + x2\n",
            "    array([[ 0.,  2.,  4.],\n",
            "           [ 3.,  5.,  7.],\n",
            "           [ 6.,  8., 10.]])\n",
            "\n"
          ]
        }
      ],
      "source": [
        "import numpy as np\n",
        "help(np.add)"
      ]
    },
    {
      "cell_type": "markdown",
      "metadata": {
        "id": "YFqK6BQ2F1mu"
      },
      "source": [
        "#Ex:06-Create a null vector of size 10 but the fifth value which is 1 ()"
      ]
    },
    {
      "cell_type": "code",
      "execution_count": null,
      "metadata": {
        "colab": {
          "base_uri": "https://localhost:8080/"
        },
        "id": "r-Q80Fd4GJnA",
        "outputId": "c0f565a9-aa54-4a93-8fd7-cd7501c2f86b"
      },
      "outputs": [
        {
          "data": {
            "text/plain": [
              "array([0., 0., 0., 0., 0., 0., 0., 0., 0., 0.])"
            ]
          },
          "execution_count": 16,
          "metadata": {},
          "output_type": "execute_result"
        }
      ],
      "source": [
        "vec_01"
      ]
    },
    {
      "cell_type": "code",
      "execution_count": null,
      "metadata": {
        "colab": {
          "base_uri": "https://localhost:8080/"
        },
        "id": "cGyrJusQGhCj",
        "outputId": "a5bd545e-d96d-4f88-ddf4-ee685dc4dd88"
      },
      "outputs": [
        {
          "name": "stdout",
          "output_type": "stream",
          "text": [
            "[0. 0. 0. 0. 1. 0. 0. 0. 0. 0.]\n"
          ]
        }
      ],
      "source": [
        "vec_01[4]=1\n",
        "print(vec_01)"
      ]
    },
    {
      "cell_type": "markdown",
      "metadata": {
        "id": "DdZc_mxWHrMe"
      },
      "source": [
        "#Ex:07-Create a vector with values ranging from 10 to 49"
      ]
    },
    {
      "cell_type": "code",
      "execution_count": null,
      "metadata": {
        "colab": {
          "base_uri": "https://localhost:8080/"
        },
        "id": "L6YOCkJyH-DO",
        "outputId": "35a3ea77-842c-4d43-d515-b6cd6f4f6248"
      },
      "outputs": [
        {
          "name": "stdout",
          "output_type": "stream",
          "text": [
            "[10 11 12 13 14 15 16 17 18 19 20 21 22 23 24 25 26 27 28 29 30 31 32 33\n",
            " 34 35 36 37 38 39 40 41 42 43 44 45 46 47 48 49]\n"
          ]
        }
      ],
      "source": [
        "vector=np.arange(10,50)\n",
        "print(vector)"
      ]
    },
    {
      "cell_type": "markdown",
      "metadata": {
        "id": "6snFExDWJNtE"
      },
      "source": [
        "#Ex:08-Reverse a vector ()"
      ]
    },
    {
      "cell_type": "code",
      "execution_count": null,
      "metadata": {
        "colab": {
          "base_uri": "https://localhost:8080/"
        },
        "id": "HaAS3qAoJXyu",
        "outputId": "b7c911ea-4725-4e4f-8ebc-e47c411ab424"
      },
      "outputs": [
        {
          "name": "stdout",
          "output_type": "stream",
          "text": [
            "[1 2 3 4 5]\n"
          ]
        }
      ],
      "source": [
        "vec_02=np.array([1,2,3,4,5])\n",
        "print(vec_02)"
      ]
    },
    {
      "cell_type": "code",
      "execution_count": null,
      "metadata": {
        "id": "PPbgOVfpJoat"
      },
      "outputs": [],
      "source": [
        "rev_vec_02=vec_02[::-1]"
      ]
    },
    {
      "cell_type": "code",
      "execution_count": null,
      "metadata": {
        "colab": {
          "base_uri": "https://localhost:8080/"
        },
        "id": "54Pz98ZkJwaJ",
        "outputId": "c64110aa-beb7-4595-d8b8-6c7aef650894"
      },
      "outputs": [
        {
          "data": {
            "text/plain": [
              "array([5, 4, 3, 2, 1])"
            ]
          },
          "execution_count": 23,
          "metadata": {},
          "output_type": "execute_result"
        }
      ],
      "source": [
        "rev_vec_02"
      ]
    },
    {
      "cell_type": "markdown",
      "metadata": {
        "id": "XJEOvW38Jzhp"
      },
      "source": [
        "#Ex:09-Create a 3*3 matrix with values ranging from 0 to 8 ()"
      ]
    },
    {
      "cell_type": "code",
      "execution_count": null,
      "metadata": {
        "colab": {
          "base_uri": "https://localhost:8080/"
        },
        "id": "BkL-TMtQKOeM",
        "outputId": "f01fbbd4-9613-4938-a455-1e92b2142470"
      },
      "outputs": [
        {
          "data": {
            "text/plain": [
              "array([[0, 1, 2],\n",
              "       [3, 4, 5],\n",
              "       [6, 7, 8]])"
            ]
          },
          "execution_count": 24,
          "metadata": {},
          "output_type": "execute_result"
        }
      ],
      "source": [
        "mat_01=np.arange(0,9).reshape(3,3)\n",
        "mat_01"
      ]
    },
    {
      "cell_type": "markdown",
      "metadata": {
        "id": "LOoE8s9_LvdO"
      },
      "source": [
        "#Ex:10-Find indices of non-zero elements from [1,2,0,0,4,0] ()"
      ]
    },
    {
      "cell_type": "code",
      "execution_count": null,
      "metadata": {
        "colab": {
          "base_uri": "https://localhost:8080/"
        },
        "id": "wo1lqV7mMLCV",
        "outputId": "fd37766d-b743-462b-d7ed-2488857258ae"
      },
      "outputs": [
        {
          "name": "stdout",
          "output_type": "stream",
          "text": [
            "(array([0, 1, 4]),)\n"
          ]
        }
      ],
      "source": [
        "arr=np.array([1,2,0,0,4,0])\n",
        "indices=np.nonzero(arr)\n",
        "print(indices)"
      ]
    },
    {
      "cell_type": "markdown",
      "metadata": {
        "id": "P61j1p1MPjNA"
      },
      "source": [
        "#Ex:11-Create a 3*3 identity matrix ()"
      ]
    },
    {
      "cell_type": "code",
      "execution_count": null,
      "metadata": {
        "colab": {
          "base_uri": "https://localhost:8080/"
        },
        "id": "ukzrHcCuPwGe",
        "outputId": "e0445018-6c86-457e-e7f0-93ae82a24d3e"
      },
      "outputs": [
        {
          "name": "stdout",
          "output_type": "stream",
          "text": [
            "[[1. 0. 0.]\n",
            " [0. 1. 0.]\n",
            " [0. 0. 1.]]\n"
          ]
        }
      ],
      "source": [
        "identity_matrix=np.eye(3)\n",
        "print(identity_matrix)"
      ]
    },
    {
      "cell_type": "markdown",
      "metadata": {
        "id": "d0rHyfMXSSxj"
      },
      "source": [
        "#Ex:12-Create a 3*3*3 array with random values"
      ]
    },
    {
      "cell_type": "code",
      "execution_count": null,
      "metadata": {
        "colab": {
          "base_uri": "https://localhost:8080/"
        },
        "id": "WdEea-8pSi87",
        "outputId": "4476b173-0bce-4c92-f7be-9f0c61616baa"
      },
      "outputs": [
        {
          "name": "stdout",
          "output_type": "stream",
          "text": [
            "[[[0.10029382 0.12852032 0.57158259]\n",
            "  [0.0482384  0.6358044  0.6343018 ]\n",
            "  [0.66106183 0.00816361 0.12888273]]\n",
            "\n",
            " [[0.24701032 0.35603178 0.51483417]\n",
            "  [0.17168048 0.01776904 0.23213007]\n",
            "  [0.28997923 0.70497791 0.19957745]]\n",
            "\n",
            " [[0.93201893 0.51205027 0.53104678]\n",
            "  [0.38954248 0.7575797  0.73371808]\n",
            "  [0.50458851 0.3792881  0.95794895]]]\n"
          ]
        }
      ],
      "source": [
        "random_array=np.random.random((3,3,3))\n",
        "print(random_array)"
      ]
    },
    {
      "cell_type": "markdown",
      "metadata": {
        "id": "75jZPTo0UZtG"
      },
      "source": [
        "#Ex:13-Create a 10*10 array with random values and find the minimum and maximum values"
      ]
    },
    {
      "cell_type": "code",
      "execution_count": null,
      "metadata": {
        "colab": {
          "base_uri": "https://localhost:8080/"
        },
        "id": "FrqHwO-MUsAA",
        "outputId": "e77d52ef-2dac-4cd6-cc2b-5ec67303a088"
      },
      "outputs": [
        {
          "name": "stdout",
          "output_type": "stream",
          "text": [
            "[[0.30810515 0.39207835 0.87041552 0.79622578 0.87228718 0.04469326\n",
            "  0.86930495 0.845098   0.66176438 0.00409704]\n",
            " [0.90929343 0.27057768 0.38760804 0.494806   0.28848456 0.08777913\n",
            "  0.34853709 0.71115505 0.81001659 0.45565276]\n",
            " [0.63506585 0.2888345  0.62957401 0.37043223 0.95482775 0.10560833\n",
            "  0.81356269 0.28810778 0.24712825 0.93330002]\n",
            " [0.63933785 0.10239459 0.61001681 0.36826093 0.42472639 0.60732277\n",
            "  0.01483141 0.25772075 0.08670541 0.18013404]\n",
            " [0.32510003 0.70921797 0.42683583 0.74011504 0.33047778 0.32209654\n",
            "  0.07457327 0.20786636 0.99033095 0.41307432]\n",
            " [0.95035029 0.49620775 0.46175671 0.57173156 0.63466006 0.56850315\n",
            "  0.60821394 0.67569338 0.78658699 0.42121768]\n",
            " [0.11867116 0.61899111 0.33973825 0.24200932 0.58400768 0.71586128\n",
            "  0.29599306 0.88533084 0.55326111 0.64958606]\n",
            " [0.01060828 0.32357458 0.82043928 0.6159583  0.3447624  0.16863824\n",
            "  0.62797907 0.49998543 0.79496769 0.37871806]\n",
            " [0.77832794 0.01182306 0.13316455 0.12823516 0.8573675  0.71699149\n",
            "  0.68010634 0.90082648 0.9264755  0.02988329]\n",
            " [0.6397226  0.91406053 0.12292333 0.7803886  0.15704401 0.21168164\n",
            "  0.97404341 0.47588146 0.34315567 0.61957373]]\n"
          ]
        }
      ],
      "source": [
        "array=np.random.random((10,10))\n",
        "print(array)"
      ]
    },
    {
      "cell_type": "code",
      "execution_count": null,
      "metadata": {
        "colab": {
          "base_uri": "https://localhost:8080/"
        },
        "id": "uS6YiPVoVE5y",
        "outputId": "33df7b8c-6e78-423d-8e30-cd9902981263"
      },
      "outputs": [
        {
          "name": "stdout",
          "output_type": "stream",
          "text": [
            "0.9903309546137591\n"
          ]
        }
      ],
      "source": [
        "print(array.max())"
      ]
    },
    {
      "cell_type": "code",
      "execution_count": null,
      "metadata": {
        "colab": {
          "base_uri": "https://localhost:8080/"
        },
        "id": "xAIbMAM-VO53",
        "outputId": "dc61c7c0-9caa-43a2-be02-6085945b143f"
      },
      "outputs": [
        {
          "name": "stdout",
          "output_type": "stream",
          "text": [
            "0.0040970413545531326\n"
          ]
        }
      ],
      "source": [
        "print(array.min())"
      ]
    },
    {
      "cell_type": "markdown",
      "metadata": {
        "id": "abtRYxHKcTCc"
      },
      "source": [
        "#Ex:14-Create a random vector of size 30 and find the mean value"
      ]
    },
    {
      "cell_type": "code",
      "execution_count": null,
      "metadata": {
        "colab": {
          "base_uri": "https://localhost:8080/"
        },
        "id": "LdxsEV5icf_J",
        "outputId": "2cdb141d-bedc-404d-97e5-ceeb38a03e8f"
      },
      "outputs": [
        {
          "name": "stdout",
          "output_type": "stream",
          "text": [
            "[0.96583486 0.62446097 0.91733264 0.27836926 0.9781383  0.48545191\n",
            " 0.1239327  0.00278113 0.19379392 0.03316663 0.68488762 0.33049882\n",
            " 0.09144622 0.44631092 0.71782087 0.93033774 0.30886032 0.50361631\n",
            " 0.5689605  0.89054383 0.82242728 0.93475386 0.4654126  0.57268249\n",
            " 0.74791698 0.97742794 0.83330115 0.91419569 0.86296485 0.86461514]\n"
          ]
        }
      ],
      "source": [
        "ran_vec=np.random.random(30)\n",
        "print(ran_vec)"
      ]
    },
    {
      "cell_type": "code",
      "execution_count": null,
      "metadata": {
        "colab": {
          "base_uri": "https://localhost:8080/"
        },
        "id": "aPIYwAh3dk_M",
        "outputId": "e2f78797-9ad0-4f48-a442-c16b9aaf2988"
      },
      "outputs": [
        {
          "name": "stdout",
          "output_type": "stream",
          "text": [
            "0.6024081140682451\n"
          ]
        }
      ],
      "source": [
        "print(ran_vec.mean())"
      ]
    },
    {
      "cell_type": "markdown",
      "metadata": {
        "id": "jFR3_GDmdxpH"
      },
      "source": [
        "#Ex:15-Create a 2d array with 1 on the border and 0 inside"
      ]
    },
    {
      "cell_type": "code",
      "execution_count": null,
      "metadata": {
        "colab": {
          "base_uri": "https://localhost:8080/"
        },
        "id": "0nagty0VeCVb",
        "outputId": "710b9079-0cb7-4902-c3ee-8d4b173189de"
      },
      "outputs": [
        {
          "name": "stdout",
          "output_type": "stream",
          "text": [
            "[[1. 1. 1. 1. 1.]\n",
            " [1. 0. 0. 0. 1.]\n",
            " [1. 0. 0. 0. 1.]\n",
            " [1. 0. 0. 0. 1.]\n",
            " [1. 1. 1. 1. 1.]]\n"
          ]
        }
      ],
      "source": [
        "array=np.ones((5,5))\n",
        "array[1:-1,1:-1]=0\n",
        "print(array)"
      ]
    },
    {
      "cell_type": "markdown",
      "metadata": {
        "id": "lJFC4Bs9gDa2"
      },
      "source": [
        "#Ex:16-How to add a border (filled with 0 ) around an existing array?"
      ]
    },
    {
      "cell_type": "code",
      "execution_count": null,
      "metadata": {
        "colab": {
          "base_uri": "https://localhost:8080/"
        },
        "id": "Vvwxdn0lgbpo",
        "outputId": "070d5986-7084-43e6-9ac2-96f473a40c70"
      },
      "outputs": [
        {
          "name": "stdout",
          "output_type": "stream",
          "text": [
            "[[0. 0. 0. 0. 0.]\n",
            " [0. 1. 1. 1. 0.]\n",
            " [0. 1. 1. 1. 0.]\n",
            " [0. 1. 1. 1. 0.]\n",
            " [0. 0. 0. 0. 0.]]\n"
          ]
        }
      ],
      "source": [
        "existing_array = np.ones((3,3))\n",
        "border_array = np.pad(existing_array, pad_width=1, mode='constant', constant_values=0)\n",
        "print(border_array)"
      ]
    },
    {
      "cell_type": "code",
      "execution_count": null,
      "metadata": {
        "colab": {
          "base_uri": "https://localhost:8080/"
        },
        "id": "lUSbLw6jhabJ",
        "outputId": "b659de66-b3e3-4b43-c208-1a3ced81c535"
      },
      "outputs": [
        {
          "name": "stdout",
          "output_type": "stream",
          "text": [
            "[[0. 0. 0. 0. 0.]\n",
            " [0. 1. 1. 1. 0.]\n",
            " [0. 1. 1. 1. 0.]\n",
            " [0. 1. 1. 1. 0.]\n",
            " [0. 0. 0. 0. 0.]]\n"
          ]
        }
      ],
      "source": [
        "arr=np.zeros((5,5))\n",
        "arr[1:-1,1:-1]=1\n",
        "print(arr)"
      ]
    },
    {
      "cell_type": "markdown",
      "metadata": {
        "id": "iBUgOnDgiKHA"
      },
      "source": [
        "#Ex:17-What is the result of the following expression? ()\n",
        "0 * np.nan      \n",
        "np.nan == np.nan    \n",
        "np.inf > np.nan     \n",
        "np.nan - np.nan    \n",
        "np.nan in set ([np.nan])     \n",
        "0.3 == 3  * 0.1"
      ]
    },
    {
      "cell_type": "code",
      "execution_count": null,
      "metadata": {
        "colab": {
          "base_uri": "https://localhost:8080/"
        },
        "id": "DbVUMfkqjICj",
        "outputId": "94f61f7e-b686-4047-dd5f-d9d27580b516"
      },
      "outputs": [
        {
          "name": "stdout",
          "output_type": "stream",
          "text": [
            "nan\n",
            "False\n",
            "False\n",
            "nan\n",
            "True\n",
            "False\n"
          ]
        }
      ],
      "source": [
        "import numpy as np\n",
        "print(0 * np.nan )\n",
        "print(np.nan == np.nan)\n",
        "print(np.inf > np.nan)\n",
        "print(np.nan - np.nan)\n",
        "print(np.nan in set([np.nan]))\n",
        "print(0.3 == 3 * 0.1)"
      ]
    },
    {
      "cell_type": "markdown",
      "metadata": {
        "id": "_okG6WySE1Kj"
      },
      "source": [
        "#Ex:18-Create a 5 * 5 matrix with values 1,2,3,4 just below the diagonal ()"
      ]
    },
    {
      "cell_type": "code",
      "execution_count": null,
      "metadata": {
        "colab": {
          "base_uri": "https://localhost:8080/"
        },
        "id": "NaMubzr8FMHY",
        "outputId": "59442005-a010-43c0-90d1-0e846121a542"
      },
      "outputs": [
        {
          "name": "stdout",
          "output_type": "stream",
          "text": [
            "[[0 0 0 0 0]\n",
            " [1 0 0 0 0]\n",
            " [0 2 0 0 0]\n",
            " [0 0 3 0 0]\n",
            " [0 0 0 4 0]]\n"
          ]
        }
      ],
      "source": [
        "matrix=np.diag([1,2,3,4],k=-1)\n",
        "print(matrix)"
      ]
    },
    {
      "cell_type": "markdown",
      "metadata": {
        "id": "9-Ge15D_G177"
      },
      "source": [
        "#Ex:19-Create a 8*8 matrix and fill it with a checkerboard pattern"
      ]
    },
    {
      "cell_type": "code",
      "execution_count": null,
      "metadata": {
        "colab": {
          "base_uri": "https://localhost:8080/"
        },
        "id": "PfqgZ-VCHJ12",
        "outputId": "c147dc1b-0751-4730-bf88-d2b278e7e50b"
      },
      "outputs": [
        {
          "name": "stdout",
          "output_type": "stream",
          "text": [
            "[[0 1 0 1 0 1 0 1]\n",
            " [1 0 1 0 1 0 1 0]\n",
            " [0 1 0 1 0 1 0 1]\n",
            " [1 0 1 0 1 0 1 0]\n",
            " [0 1 0 1 0 1 0 1]\n",
            " [1 0 1 0 1 0 1 0]\n",
            " [0 1 0 1 0 1 0 1]\n",
            " [1 0 1 0 1 0 1 0]]\n"
          ]
        }
      ],
      "source": [
        "checkerboard = np.zeros((8,8),dtype=int)\n",
        "checkerboard[1::2,::2]=1\n",
        "checkerboard[::2,1::2]=1\n",
        "print(checkerboard)"
      ]
    },
    {
      "cell_type": "markdown",
      "metadata": {
        "id": "ajiHJn8kKDvZ"
      },
      "source": [
        "#Ex:20-Consider a (6,7,8) shape array , what is the index (x,y,z) of the 100th element? ()"
      ]
    },
    {
      "cell_type": "code",
      "execution_count": null,
      "metadata": {
        "colab": {
          "base_uri": "https://localhost:8080/"
        },
        "id": "vcPwXflbKfRi",
        "outputId": "36788946-2f3a-427b-8a05-a64918ea6e68"
      },
      "outputs": [
        {
          "name": "stdout",
          "output_type": "stream",
          "text": [
            "(np.int64(1), np.int64(5), np.int64(4))\n"
          ]
        }
      ],
      "source": [
        "shape =np.array([6,7,8])\n",
        "index = np.unravel_index(100,shape)\n",
        "print(index)"
      ]
    },
    {
      "cell_type": "markdown",
      "metadata": {
        "id": "RfTTL3r6McPr"
      },
      "source": [
        "#Ex:21-Create a checkerboard 8*8 matrix using the tile function"
      ]
    },
    {
      "cell_type": "code",
      "execution_count": null,
      "metadata": {
        "colab": {
          "base_uri": "https://localhost:8080/"
        },
        "id": "4yC3ULNuNA5y",
        "outputId": "2ff410d7-08a6-4d42-94e2-e036a36d8dbc"
      },
      "outputs": [
        {
          "name": "stdout",
          "output_type": "stream",
          "text": [
            "[[0 1 0 1 0 1 0 1]\n",
            " [1 0 1 0 1 0 1 0]\n",
            " [0 1 0 1 0 1 0 1]\n",
            " [1 0 1 0 1 0 1 0]\n",
            " [0 1 0 1 0 1 0 1]\n",
            " [1 0 1 0 1 0 1 0]\n",
            " [0 1 0 1 0 1 0 1]\n",
            " [1 0 1 0 1 0 1 0]]\n"
          ]
        }
      ],
      "source": [
        "\n",
        "Pattern = np.array([[0,1],[1,0]])\n",
        "checkerboard = np.tile(Pattern,(4,4))\n",
        "print(checkerboard)"
      ]
    },
    {
      "cell_type": "markdown",
      "metadata": {
        "id": "g3a4yVWqPvw0"
      },
      "source": [
        "#Ex:22-Normalize a 5*5 random matrix ()"
      ]
    },
    {
      "cell_type": "code",
      "execution_count": null,
      "metadata": {
        "colab": {
          "base_uri": "https://localhost:8080/"
        },
        "id": "qp8DcnvQSBN2",
        "outputId": "a1c85ab5-97fe-487c-8215-54a7cb4eae71"
      },
      "outputs": [
        {
          "name": "stdout",
          "output_type": "stream",
          "text": [
            "[[0.00487149 0.79258219 0.14151448 0.16113309 0.32716661]\n",
            " [0.37976606 0.55778124 0.9808533  0.06891399 0.59137598]\n",
            " [0.44417691 0.15343795 0.26563234 0.97961355 0.59348332]\n",
            " [0.61637418 0.02279447 0.99035701 1.         0.9889687 ]\n",
            " [0.25019206 0.         0.64273457 0.52866061 0.31988426]]\n"
          ]
        }
      ],
      "source": [
        "matrix = np.random.random((5,5))\n",
        "normalized_matrix = (matrix - np.min(matrix)) / (np.max(matrix) - np.min(matrix))\n",
        "print(normalized_matrix)"
      ]
    },
    {
      "cell_type": "markdown",
      "metadata": {
        "id": "qIafAMEIUyV4"
      },
      "source": [
        "#Ex:23-Create a custom dtype that describes a color as four unsigned bytes (RGBA) ()"
      ]
    },
    {
      "cell_type": "code",
      "execution_count": null,
      "metadata": {
        "colab": {
          "base_uri": "https://localhost:8080/"
        },
        "id": "2nnrJY-CVOst",
        "outputId": "e0bc55b2-927e-406a-c882-28687f0c779e"
      },
      "outputs": [
        {
          "name": "stdout",
          "output_type": "stream",
          "text": [
            "[('R', 'u1'), ('G', 'u1'), ('B', 'u1'), ('A', 'u1')]\n"
          ]
        }
      ],
      "source": [
        "color_dtype = np.dtype([('R', np.ubyte), ('G', np.ubyte), ('B', np.ubyte), ('A', np.ubyte)])\n",
        "print(color_dtype)"
      ]
    },
    {
      "cell_type": "markdown",
      "metadata": {
        "id": "hfiZkYBzYDA3"
      },
      "source": [
        "#Ex:24-Multipy a 5 by 3 matrix by a 3 by 2 matrix(real matrix product)"
      ]
    },
    {
      "cell_type": "code",
      "execution_count": null,
      "metadata": {
        "colab": {
          "base_uri": "https://localhost:8080/"
        },
        "id": "R1IhrRJhYldf",
        "outputId": "6cab4a53-2ed3-42f3-e4e7-08844627b6ff"
      },
      "outputs": [
        {
          "name": "stdout",
          "output_type": "stream",
          "text": [
            "[[0.78812886 0.36808967]\n",
            " [1.10908583 0.47249477]\n",
            " [0.94368628 0.44674599]\n",
            " [1.36407633 0.58597706]\n",
            " [1.14577237 0.51215936]]\n"
          ]
        }
      ],
      "source": [
        "matrix_01=np.random.random((5,3))\n",
        "matrix_02=np.random.random((3,2))\n",
        "result = np.dot(matrix_01,matrix_02)\n",
        "print(result)"
      ]
    },
    {
      "cell_type": "code",
      "execution_count": null,
      "metadata": {
        "colab": {
          "base_uri": "https://localhost:8080/"
        },
        "id": "El7vY8-ZZiSK",
        "outputId": "f7f87d9e-898f-4e2e-aa6e-a73d76a78762"
      },
      "outputs": [
        {
          "name": "stdout",
          "output_type": "stream",
          "text": [
            "[[14 20]\n",
            " [20 29]\n",
            " [26 38]\n",
            " [32 47]\n",
            " [38 56]]\n"
          ]
        }
      ],
      "source": [
        "m1=np.array([[1,2,3],[2,3,4],[3,4,5],[4,5,6],[5,6,7]])\n",
        "m2=np.array([[1,2],[2,3],[3,4]])\n",
        "result=np.dot(m1,m2)\n",
        "print(result)"
      ]
    },
    {
      "cell_type": "markdown",
      "metadata": {
        "id": "bqaH4cuPbDrt"
      },
      "source": [
        "#Ex:25-Given a 1D array , negate all elements which are between 3 and 8,in place ()"
      ]
    },
    {
      "cell_type": "code",
      "execution_count": null,
      "metadata": {
        "colab": {
          "base_uri": "https://localhost:8080/"
        },
        "id": "JBxOxjsXcIe7",
        "outputId": "356d9243-d48a-4f18-bc9c-e1d6c717cc2b"
      },
      "outputs": [
        {
          "name": "stdout",
          "output_type": "stream",
          "text": [
            "[ 0  1  2 -3 -4 -5 -6 -7 -8  9]\n"
          ]
        }
      ],
      "source": [
        "array = np.arange(10)\n",
        "array[(array>=3) & (array<=8)] *=-1\n",
        "print(array)"
      ]
    },
    {
      "cell_type": "markdown",
      "metadata": {
        "id": "Ib_UdIKwdOs0"
      },
      "source": [
        "#Ex:26-What is the output of the following script? ( )\n",
        "#  Author: Jake VanderPlas\n",
        "\n",
        "print(sum(range(5),-1))     \n",
        "from numpy import *    \n",
        "print(sum(range(5),-1))"
      ]
    },
    {
      "cell_type": "code",
      "execution_count": null,
      "metadata": {
        "colab": {
          "base_uri": "https://localhost:8080/"
        },
        "id": "hyR0sQZNhFiK",
        "outputId": "0a139d9b-385c-42b7-f6fd-5bb6b020fb09"
      },
      "outputs": [
        {
          "name": "stdout",
          "output_type": "stream",
          "text": [
            "10\n",
            "10\n"
          ]
        }
      ],
      "source": [
        "# Author: Jake Vanderplas\n",
        "print(sum(range(5),-1))\n",
        "from numpy import *\n",
        "print(sum(range(5),-1))\n"
      ]
    },
    {
      "cell_type": "markdown",
      "metadata": {
        "id": "VWJTmFV6i9QU"
      },
      "source": [
        "#Ex:27-Consider an integer vector z,which of these expressions are legal?\n",
        "z**z    \n",
        "2 << z >> 2       \n",
        "z <- z      \n",
        "1j*z         \n",
        "z/1/1        \n",
        "z<z>z"
      ]
    },
    {
      "cell_type": "code",
      "execution_count": null,
      "metadata": {
        "colab": {
          "base_uri": "https://localhost:8080/"
        },
        "id": "4PLdsnAFXXoN",
        "outputId": "e4cfd32c-cc4a-4cec-884a-117022032baa"
      },
      "outputs": [
        {
          "name": "stdout",
          "output_type": "stream",
          "text": [
            "[ 1  4 27]\n",
            "[1 2 4]\n",
            "[False False False]\n",
            "[1.+1.j 2.+1.j 3.+1.j]\n",
            "[1. 2. 3.]\n"
          ]
        }
      ],
      "source": [
        "z = np.array([1,2,3])\n",
        "print(z**z) #Legal\n",
        "print(2 << z >> 2) #Legal\n",
        "print(z <- z) #Not legal\n",
        "print(1j +z) #legal\n",
        "print(z/1//1) #legal\n",
        "print(z<z>z) #not legal\n"
      ]
    },
    {
      "cell_type": "markdown",
      "metadata": {
        "id": "i8a80c-mFThP"
      },
      "source": [
        "#Ex:28-What are the result of the following expressions?()\n"
      ]
    },
    {
      "cell_type": "code",
      "execution_count": null,
      "metadata": {
        "colab": {
          "base_uri": "https://localhost:8080/"
        },
        "id": "krxwCl1EFvnk",
        "outputId": "9dc918c6-eaa6-4233-cc37-1520134ea3a7"
      },
      "outputs": [
        {
          "name": "stderr",
          "output_type": "stream",
          "text": [
            "<ipython-input-5-cd809174da5d>:1: RuntimeWarning: invalid value encountered in divide\n",
            "  np.array(0) / np.array(0)\n",
            "<ipython-input-5-cd809174da5d>:2: RuntimeWarning: divide by zero encountered in floor_divide\n",
            "  np.array(0) // np.array(0)\n",
            "<ipython-input-5-cd809174da5d>:3: RuntimeWarning: invalid value encountered in cast\n",
            "  np.array([np.nan]).astype(int).astype(float)\n"
          ]
        },
        {
          "data": {
            "text/plain": [
              "array([-9.22337204e+18])"
            ]
          },
          "execution_count": 5,
          "metadata": {},
          "output_type": "execute_result"
        }
      ],
      "source": [
        "np.array(0) / np.array(0)\n",
        "np.array(0) // np.array(0)\n",
        "np.array([np.nan]).astype(int).astype(float)"
      ]
    },
    {
      "cell_type": "markdown",
      "metadata": {
        "id": "iaV-TsNSGRfb"
      },
      "source": [
        "#Ex:29-How to round away from zero a float array?()"
      ]
    },
    {
      "cell_type": "code",
      "execution_count": null,
      "metadata": {
        "colab": {
          "base_uri": "https://localhost:8080/"
        },
        "id": "hOEmxq7rGqeH",
        "outputId": "b52941f9-9f7b-41ce-d5d9-3fb035cad8f3"
      },
      "outputs": [
        {
          "name": "stdout",
          "output_type": "stream",
          "text": [
            "[-4.  4. -4.  4.]\n"
          ]
        }
      ],
      "source": [
        "arr = np.array([-3.4,3.4,-3.6,3.6])\n",
        "rounded_arr = np.copysign(np.ceil(np.abs(arr)),arr)\n",
        "print(rounded_arr)"
      ]
    },
    {
      "cell_type": "markdown",
      "metadata": {
        "id": "JX6KAl5HNZ-m"
      },
      "source": [
        "#Ex:30- How to find common values between two arrays?()"
      ]
    },
    {
      "cell_type": "code",
      "execution_count": null,
      "metadata": {
        "colab": {
          "base_uri": "https://localhost:8080/"
        },
        "id": "Lr4RkzzPOESY",
        "outputId": "51e42bb7-3787-4842-87cd-d4506b7ef408"
      },
      "outputs": [
        {
          "name": "stdout",
          "output_type": "stream",
          "text": [
            "[3 4 5]\n"
          ]
        }
      ],
      "source": [
        "A = np.array([1,2,3,4,5])\n",
        "B = np.array([3,4,5,6,7])\n",
        "print(np.intersect1d(A,B))"
      ]
    },
    {
      "cell_type": "markdown",
      "metadata": {
        "id": "wBtv7qzMQwUv"
      },
      "source": [
        "#Ex:31-How to ignore all numpy warnings?()"
      ]
    },
    {
      "cell_type": "code",
      "execution_count": null,
      "metadata": {
        "id": "dkESuWedQ95k"
      },
      "outputs": [],
      "source": [
        "import warnings\n",
        "warnings.filterwarnings(\"ignore\")"
      ]
    },
    {
      "cell_type": "markdown",
      "metadata": {
        "id": "R9FK3Wq_RWEl"
      },
      "source": [
        "#Ex:32-Is the following expressions true?()\n",
        "np.sqrt(-1)  == np.emath.sqrt(-1)"
      ]
    },
    {
      "cell_type": "code",
      "execution_count": null,
      "metadata": {
        "colab": {
          "base_uri": "https://localhost:8080/"
        },
        "id": "85mLJAMTR_7_",
        "outputId": "5d8797ab-05c1-41d9-b889-79594394eece"
      },
      "outputs": [
        {
          "name": "stdout",
          "output_type": "stream",
          "text": [
            "False\n"
          ]
        }
      ],
      "source": [
        "print(np.sqrt(-1) == np.emath.sqrt(-1))"
      ]
    },
    {
      "cell_type": "markdown",
      "metadata": {
        "id": "j6AmGkAXSN7N"
      },
      "source": [
        "#Ex:33-How to get the dates of yesterday,today and tomorrow?( )"
      ]
    },
    {
      "cell_type": "code",
      "execution_count": null,
      "metadata": {
        "colab": {
          "base_uri": "https://localhost:8080/"
        },
        "id": "jsDYVtZ8Sdur",
        "outputId": "eb57a955-3dbb-40e3-aaf5-683a527b1dab"
      },
      "outputs": [
        {
          "name": "stdout",
          "output_type": "stream",
          "text": [
            "2025-04-03 2025-04-04 2025-04-05\n"
          ]
        }
      ],
      "source": [
        "import datetime\n",
        "\n",
        "today = datetime.date.today()\n",
        "yesterday = today - datetime.timedelta(days=1)\n",
        "tomorrow = today + datetime.timedelta(days=1)\n",
        "\n",
        "print(yesterday,today,tomorrow)"
      ]
    },
    {
      "cell_type": "markdown",
      "metadata": {
        "id": "fqnIGdeZUu6n"
      },
      "source": [
        "#Ex:34-How to get all the dates corresponding to the month of July 2016?( )"
      ]
    },
    {
      "cell_type": "code",
      "execution_count": null,
      "metadata": {
        "colab": {
          "base_uri": "https://localhost:8080/"
        },
        "id": "A2Uj8W4yVBsS",
        "outputId": "00e1d846-0a9a-41e3-a68a-8a41adcd939c"
      },
      "outputs": [
        {
          "name": "stdout",
          "output_type": "stream",
          "text": [
            "['2016-07-01' '2016-07-02' '2016-07-03' '2016-07-04' '2016-07-05'\n",
            " '2016-07-06' '2016-07-07' '2016-07-08' '2016-07-09' '2016-07-10'\n",
            " '2016-07-11' '2016-07-12' '2016-07-13' '2016-07-14' '2016-07-15'\n",
            " '2016-07-16' '2016-07-17' '2016-07-18' '2016-07-19' '2016-07-20'\n",
            " '2016-07-21' '2016-07-22' '2016-07-23' '2016-07-24' '2016-07-25'\n",
            " '2016-07-26' '2016-07-27' '2016-07-28' '2016-07-29' '2016-07-30'\n",
            " '2016-07-31']\n"
          ]
        }
      ],
      "source": [
        "import datetime\n",
        "july_2016 = np.arange('2016-07','2016-08', dtype='datetime64[D]')\n",
        "print(july_2016)"
      ]
    },
    {
      "cell_type": "markdown",
      "metadata": {
        "id": "OFar7e3YYHDW"
      },
      "source": [
        "#Ex:35-How to compute ((A+B)*(-A/2)) in place (without copy)? ()"
      ]
    },
    {
      "cell_type": "code",
      "execution_count": null,
      "metadata": {
        "colab": {
          "base_uri": "https://localhost:8080/"
        },
        "id": "IG60NlNhYblH",
        "outputId": "983dbf67-99d4-4f54-c221-3c8355b72df5"
      },
      "outputs": [
        {
          "name": "stdout",
          "output_type": "stream",
          "text": [
            "[-12.5 -24.5 -40.5]\n"
          ]
        }
      ],
      "source": [
        "A = np.array([1,2,3])\n",
        "B = np.array([4,5,6])\n",
        "A += B\n",
        "A = A * (-A/2)\n",
        "print(A)"
      ]
    },
    {
      "cell_type": "markdown",
      "metadata": {
        "id": "oZHc9nO5bPGL"
      },
      "source": [
        "#Ex:36-Extract the integer part of a random array of positive numbers using 4 different methods ()"
      ]
    },
    {
      "cell_type": "code",
      "execution_count": null,
      "metadata": {
        "colab": {
          "base_uri": "https://localhost:8080/"
        },
        "id": "c-_DrygEbjBh",
        "outputId": "80c1c526-1970-4bba-fab9-572a032accb8"
      },
      "outputs": [
        {
          "name": "stdout",
          "output_type": "stream",
          "text": [
            "[5 1 2 9 4]\n",
            "[5. 1. 2. 9. 4.]\n",
            "[5. 1. 2. 9. 4.]\n",
            "[5. 1. 2. 9. 4.]\n"
          ]
        }
      ],
      "source": [
        "arr = np.random.random(5) * 10\n",
        "print(arr.astype(int)) # Method-01\n",
        "print(np.floor(arr)) # Method-02\n",
        "print(np.ceil(arr) - 1) # Method-03\n",
        "print(np.trunc(arr)) # Method-04"
      ]
    },
    {
      "cell_type": "markdown",
      "metadata": {
        "id": "ASh-6d2Td-C1"
      },
      "source": [
        "#Ex:37-Create a 5*5 matrix with row values ranging from 0 to 4"
      ]
    },
    {
      "cell_type": "code",
      "execution_count": null,
      "metadata": {
        "colab": {
          "base_uri": "https://localhost:8080/"
        },
        "id": "1Rr8hqK6eMGX",
        "outputId": "3800d82a-4c2e-4cf3-e6bf-e34f9365b2fb"
      },
      "outputs": [
        {
          "name": "stdout",
          "output_type": "stream",
          "text": [
            "[[0 1 2 3 4]\n",
            " [0 1 2 3 4]\n",
            " [0 1 2 3 4]\n",
            " [0 1 2 3 4]\n",
            " [0 1 2 3 4]]\n"
          ]
        }
      ],
      "source": [
        "matrix = np.tile(np.arange(0,5),(5,1))\n",
        "print(matrix)"
      ]
    },
    {
      "cell_type": "markdown",
      "metadata": {
        "id": "vvt9h7lgf8dp"
      },
      "source": [
        "#Ex:38-Consider a generator function that generates 10 integers and use it to build an array()"
      ]
    },
    {
      "cell_type": "code",
      "execution_count": null,
      "metadata": {
        "colab": {
          "base_uri": "https://localhost:8080/"
        },
        "id": "UXexDPTzgnA6",
        "outputId": "6e587b08-0b3d-4c2e-8040-d01ac9743fb6"
      },
      "outputs": [
        {
          "name": "stdout",
          "output_type": "stream",
          "text": [
            "[0 1 2 3 4 5 6 7 8 9]\n"
          ]
        }
      ],
      "source": [
        "def generator():\n",
        "  for i in range(10):\n",
        "    yield i\n",
        "arr = np.fromiter(generator(),dtype=int)\n",
        "print(arr)"
      ]
    },
    {
      "cell_type": "markdown",
      "metadata": {
        "id": "h63W1QBgisVD"
      },
      "source": [
        "#Ex:39-Create a vector of size 10 with values ranging from 0 to 1,both excluded ()"
      ]
    },
    {
      "cell_type": "code",
      "execution_count": null,
      "metadata": {
        "colab": {
          "base_uri": "https://localhost:8080/"
        },
        "id": "nAw2fCbei-Fe",
        "outputId": "5025637d-3c49-4dfa-9bab-0bc5ef728a18"
      },
      "outputs": [
        {
          "name": "stdout",
          "output_type": "stream",
          "text": [
            "[0.09090909 0.18181818 0.27272727 0.36363636 0.45454545 0.54545455\n",
            " 0.63636364 0.72727273 0.81818182 0.90909091]\n"
          ]
        }
      ],
      "source": [
        "rand_vec = np.linspace(0,1,12) [1:-1]\n",
        "print(rand_vec)"
      ]
    },
    {
      "cell_type": "markdown",
      "metadata": {
        "id": "bANeC49Jk4rU"
      },
      "source": [
        "#Ex:40-Create a random vector of size 10 and sort it ()"
      ]
    },
    {
      "cell_type": "code",
      "execution_count": null,
      "metadata": {
        "colab": {
          "base_uri": "https://localhost:8080/"
        },
        "id": "WGMBv19ilF1m",
        "outputId": "2003393d-b94d-44bd-d2ba-0b5d41bf8143"
      },
      "outputs": [
        {
          "name": "stdout",
          "output_type": "stream",
          "text": [
            "[0.18812957 0.21097626 0.44867934 0.47387504 0.55793373 0.57552783\n",
            " 0.75720465 0.78088627 0.80923259 0.968474  ]\n"
          ]
        }
      ],
      "source": [
        "random_vec = np.random.rand(10)\n",
        "random_vec.sort()\n",
        "print(random_vec)"
      ]
    },
    {
      "cell_type": "markdown",
      "metadata": {
        "id": "uj4EyEI1m16m"
      },
      "source": [
        "#Ex:41-How to sum a small array faster than np.sum?()"
      ]
    },
    {
      "cell_type": "code",
      "execution_count": null,
      "metadata": {
        "colab": {
          "base_uri": "https://localhost:8080/"
        },
        "id": "t-Ta4VvAnFJm",
        "outputId": "09b7a929-2fc8-4456-ce9c-e02c05bd8e6d"
      },
      "outputs": [
        {
          "name": "stdout",
          "output_type": "stream",
          "text": [
            "10\n"
          ]
        }
      ],
      "source": [
        "arr = np.array([1,2,3,4])\n",
        "print(np.add.reduce(arr))"
      ]
    },
    {
      "cell_type": "markdown",
      "metadata": {
        "id": "FRlNcSucns5N"
      },
      "source": [
        "#Ex:42-Consider two random array A and B,check if they are equal ()"
      ]
    },
    {
      "cell_type": "code",
      "execution_count": null,
      "metadata": {
        "colab": {
          "base_uri": "https://localhost:8080/"
        },
        "id": "Kwo5IFoxoYht",
        "outputId": "87baed46-2578-4ef2-caf0-53a14c421e2a"
      },
      "outputs": [
        {
          "name": "stdout",
          "output_type": "stream",
          "text": [
            "False\n"
          ]
        }
      ],
      "source": [
        "arr_1 = np.random.rand(5)\n",
        "arr_2 = np.random.rand(5)\n",
        "print(np.array_equal(arr_1,arr_2))"
      ]
    },
    {
      "cell_type": "markdown",
      "metadata": {
        "id": "QZzRh-0xaYu5"
      },
      "source": [
        "#Ex:43-Make an array immutable read only ()"
      ]
    },
    {
      "cell_type": "code",
      "execution_count": null,
      "metadata": {
        "id": "wzoLtFAMakJk"
      },
      "outputs": [],
      "source": [
        "arr = np.array([1,2,3,4,5])\n",
        "arr.flags.writeable = False #make array read only\n"
      ]
    },
    {
      "cell_type": "markdown",
      "metadata": {
        "id": "m1LtmWEhbjWg"
      },
      "source": [
        "#Ex:44-Consider a random 10*2 matrix representing cartesian coordinates ,convert them to polar coordinates"
      ]
    },
    {
      "cell_type": "code",
      "execution_count": null,
      "metadata": {
        "colab": {
          "base_uri": "https://localhost:8080/"
        },
        "id": "mfCSTcuhcIAH",
        "outputId": "9a45b2db-05fc-44af-d1d6-716800e085db"
      },
      "outputs": [
        {
          "name": "stdout",
          "output_type": "stream",
          "text": [
            "[[0.8035416  0.5965545 ]\n",
            " [1.00138203 0.76618757]\n",
            " [1.22721323 0.75676489]\n",
            " [0.85164413 0.23223368]\n",
            " [0.73982745 0.27007341]\n",
            " [0.42356817 0.20551356]\n",
            " [1.04333272 0.34950238]\n",
            " [0.90555234 0.05619251]\n",
            " [0.66641117 0.52343026]\n",
            " [0.13712904 0.04282719]]\n"
          ]
        }
      ],
      "source": [
        "cartesian = np.random.random((10,2))\n",
        "x,y = cartesian[:,0], cartesian[:,1]\n",
        "r = np.sqrt(x**2 + y**2)\n",
        "theta = np.arctan(y,x)\n",
        "\n",
        "polar = np.column_stack((r,theta))\n",
        "print(polar)"
      ]
    },
    {
      "cell_type": "markdown",
      "metadata": {
        "id": "4DzsZd0fdpNo"
      },
      "source": [
        "#Ex:45-Create random vector of size 10 and replace the maximum value by 0 ()"
      ]
    },
    {
      "cell_type": "code",
      "execution_count": null,
      "metadata": {
        "colab": {
          "base_uri": "https://localhost:8080/"
        },
        "id": "0msEJfeRfQVl",
        "outputId": "f5fca68e-3ce6-4ab7-f7ed-4a8d9e621106"
      },
      "outputs": [
        {
          "name": "stdout",
          "output_type": "stream",
          "text": [
            "[0.81807251 0.44336713 0.         0.15680989 0.46500688 0.11779604\n",
            " 0.18095839 0.32080786 0.55141039 0.74961775]\n"
          ]
        }
      ],
      "source": [
        "vec_03 = np.random.rand(10)\n",
        "vec_03[vec_03.argmax()] = 0\n",
        "print(vec_03)"
      ]
    },
    {
      "cell_type": "markdown",
      "metadata": {
        "id": "Ju4vLJyrgCv4"
      },
      "source": [
        "#Ex:46-Create a structured array with x and y coordinates covering the [0,1]*[0,1] area ()"
      ]
    },
    {
      "cell_type": "code",
      "execution_count": null,
      "metadata": {
        "colab": {
          "base_uri": "https://localhost:8080/"
        },
        "id": "SZGE2evihMaO",
        "outputId": "13df28ee-fa48-42c2-a751-5df00998a965"
      },
      "outputs": [
        {
          "name": "stdout",
          "output_type": "stream",
          "text": [
            "[[(0.        , 0.        ) (0.11111111, 0.        )\n",
            "  (0.22222222, 0.        ) (0.33333333, 0.        )\n",
            "  (0.44444444, 0.        ) (0.55555556, 0.        )\n",
            "  (0.66666667, 0.        ) (0.77777778, 0.        )\n",
            "  (0.88888889, 0.        ) (1.        , 0.        )]\n",
            " [(0.        , 0.11111111) (0.11111111, 0.11111111)\n",
            "  (0.22222222, 0.11111111) (0.33333333, 0.11111111)\n",
            "  (0.44444444, 0.11111111) (0.55555556, 0.11111111)\n",
            "  (0.66666667, 0.11111111) (0.77777778, 0.11111111)\n",
            "  (0.88888889, 0.11111111) (1.        , 0.11111111)]\n",
            " [(0.        , 0.22222222) (0.11111111, 0.22222222)\n",
            "  (0.22222222, 0.22222222) (0.33333333, 0.22222222)\n",
            "  (0.44444444, 0.22222222) (0.55555556, 0.22222222)\n",
            "  (0.66666667, 0.22222222) (0.77777778, 0.22222222)\n",
            "  (0.88888889, 0.22222222) (1.        , 0.22222222)]\n",
            " [(0.        , 0.33333333) (0.11111111, 0.33333333)\n",
            "  (0.22222222, 0.33333333) (0.33333333, 0.33333333)\n",
            "  (0.44444444, 0.33333333) (0.55555556, 0.33333333)\n",
            "  (0.66666667, 0.33333333) (0.77777778, 0.33333333)\n",
            "  (0.88888889, 0.33333333) (1.        , 0.33333333)]\n",
            " [(0.        , 0.44444444) (0.11111111, 0.44444444)\n",
            "  (0.22222222, 0.44444444) (0.33333333, 0.44444444)\n",
            "  (0.44444444, 0.44444444) (0.55555556, 0.44444444)\n",
            "  (0.66666667, 0.44444444) (0.77777778, 0.44444444)\n",
            "  (0.88888889, 0.44444444) (1.        , 0.44444444)]\n",
            " [(0.        , 0.55555556) (0.11111111, 0.55555556)\n",
            "  (0.22222222, 0.55555556) (0.33333333, 0.55555556)\n",
            "  (0.44444444, 0.55555556) (0.55555556, 0.55555556)\n",
            "  (0.66666667, 0.55555556) (0.77777778, 0.55555556)\n",
            "  (0.88888889, 0.55555556) (1.        , 0.55555556)]\n",
            " [(0.        , 0.66666667) (0.11111111, 0.66666667)\n",
            "  (0.22222222, 0.66666667) (0.33333333, 0.66666667)\n",
            "  (0.44444444, 0.66666667) (0.55555556, 0.66666667)\n",
            "  (0.66666667, 0.66666667) (0.77777778, 0.66666667)\n",
            "  (0.88888889, 0.66666667) (1.        , 0.66666667)]\n",
            " [(0.        , 0.77777778) (0.11111111, 0.77777778)\n",
            "  (0.22222222, 0.77777778) (0.33333333, 0.77777778)\n",
            "  (0.44444444, 0.77777778) (0.55555556, 0.77777778)\n",
            "  (0.66666667, 0.77777778) (0.77777778, 0.77777778)\n",
            "  (0.88888889, 0.77777778) (1.        , 0.77777778)]\n",
            " [(0.        , 0.88888889) (0.11111111, 0.88888889)\n",
            "  (0.22222222, 0.88888889) (0.33333333, 0.88888889)\n",
            "  (0.44444444, 0.88888889) (0.55555556, 0.88888889)\n",
            "  (0.66666667, 0.88888889) (0.77777778, 0.88888889)\n",
            "  (0.88888889, 0.88888889) (1.        , 0.88888889)]\n",
            " [(0.        , 1.        ) (0.11111111, 1.        )\n",
            "  (0.22222222, 1.        ) (0.33333333, 1.        )\n",
            "  (0.44444444, 1.        ) (0.55555556, 1.        )\n",
            "  (0.66666667, 1.        ) (0.77777778, 1.        )\n",
            "  (0.88888889, 1.        ) (1.        , 1.        )]]\n"
          ]
        }
      ],
      "source": [
        "dtype = [('x',float),('y',float)]\n",
        "grid = np.zeros((10,10),dtype=dtype)\n",
        "\n",
        "grid['x'],grid['y'] = np.meshgrid(np.linspace(0,1,10),np.linspace(0,1,10))\n",
        "print(grid)"
      ]
    },
    {
      "cell_type": "markdown",
      "metadata": {
        "id": "BL9xd3Zxj3Pc"
      },
      "source": [
        "#Ex:47-Given two arrays, X and Y ,construct the Cauchy matrix C(Cij=1/(Xi-Yi)) ()"
      ]
    },
    {
      "cell_type": "code",
      "execution_count": null,
      "metadata": {
        "colab": {
          "base_uri": "https://localhost:8080/"
        },
        "id": "vh5_s04Dk1NC",
        "outputId": "4bbbbf87-a70c-4af5-d9ce-4a95efaffb42"
      },
      "outputs": [
        {
          "name": "stdout",
          "output_type": "stream",
          "text": [
            "[[ 1.          1.          0.5         0.33333333  0.25      ]\n",
            " [-1.          1.          1.          0.5         0.33333333]\n",
            " [-0.5        -1.          1.          1.          0.5       ]\n",
            " [-0.33333333 -0.5        -1.          1.          1.        ]\n",
            " [-0.25       -0.33333333 -0.5        -1.          1.        ]]\n"
          ]
        }
      ],
      "source": [
        "X = np.arange(1,6)\n",
        "Y = np.arange(1,6)[:,None]\n",
        "C = 1.0/(X-Y+np.eye(len(X)))\n",
        "print(C)"
      ]
    },
    {
      "cell_type": "markdown",
      "metadata": {
        "id": "LdypMaD9okyB"
      },
      "source": [
        "#Ex:48-Print the minimum and maximum representable value for each numpy scaler type ()"
      ]
    },
    {
      "cell_type": "code",
      "execution_count": null,
      "metadata": {
        "colab": {
          "base_uri": "https://localhost:8080/"
        },
        "id": "GkRMyCZbo6mK",
        "outputId": "8b76eb28-301d-4cc0-e12c-3bd54ed87088"
      },
      "outputs": [
        {
          "name": "stdout",
          "output_type": "stream",
          "text": [
            "<class 'numpy.float32'>: Min=-3.4028234663852886e+38, Max=3.4028234663852886e+38\n",
            "<class 'numpy.float64'>: Min=-1.7976931348623157e+308, Max=1.7976931348623157e+308\n"
          ]
        }
      ],
      "source": [
        "types = [np.int8,np.int16,np.int32,np.int64,np.float32,np.float64]\n",
        "\n",
        "for dtype in types:\n",
        "  if np.issubdtype(dtype,np.integer):\n",
        "    info = np.iinfo(dtype)\n",
        "  else:\n",
        "      info = np.finfo(dtype)\n",
        "      print(f\"{dtype}: Min={info.min}, Max={info.max}\")"
      ]
    },
    {
      "cell_type": "markdown",
      "metadata": {
        "id": "w0mSybimsNX6"
      },
      "source": [
        "#Ex:49-How to print all the values of an array?()"
      ]
    },
    {
      "cell_type": "code",
      "execution_count": null,
      "metadata": {
        "colab": {
          "base_uri": "https://localhost:8080/"
        },
        "id": "LzAYaZ8wscGf",
        "outputId": "8d6e70b0-6d16-4ee1-e4e6-c626e9309036"
      },
      "outputs": [
        {
          "name": "stdout",
          "output_type": "stream",
          "text": [
            "[0.42529837 0.76659805 0.79560676 0.81182074 0.05099455 0.43261799\n",
            " 0.83089833 0.28086915 0.50132471 0.87127212]\n"
          ]
        }
      ],
      "source": [
        "arr = np.random.rand(10)\n",
        "print(arr)"
      ]
    },
    {
      "cell_type": "markdown",
      "metadata": {
        "id": "0seSu9ustQ4i"
      },
      "source": [
        "#Ex:50-How to find the closest value in a vector?()"
      ]
    },
    {
      "cell_type": "code",
      "execution_count": null,
      "metadata": {
        "colab": {
          "base_uri": "https://localhost:8080/"
        },
        "id": "Id99GyI6tQFs",
        "outputId": "8415a41b-a96c-47d6-9550-346caf36d614"
      },
      "outputs": [
        {
          "name": "stdout",
          "output_type": "stream",
          "text": [
            "0.49269965424445283\n"
          ]
        }
      ],
      "source": [
        "vec = np.random.rand(10)\n",
        "scaler = 0.5\n",
        "closest_value = vec[np.abs(vec - scaler).argmin()]\n",
        "print(closest_value)\n"
      ]
    },
    {
      "cell_type": "markdown",
      "metadata": {
        "id": "IXrJe1Vkiw8L"
      },
      "source": [
        "#Ex:51-Create a structured array representing a position (x,y) and a color (r,g,b)\n"
      ]
    },
    {
      "cell_type": "code",
      "execution_count": null,
      "metadata": {
        "colab": {
          "base_uri": "https://localhost:8080/"
        },
        "id": "n8K-pPDMjI0z",
        "outputId": "6ff5ec67-449a-41bf-a13b-6b6a0826ce21"
      },
      "outputs": [
        {
          "data": {
            "text/plain": [
              "array([((0., 0.), (0., 0., 0.)), ((0., 0.), (0., 0., 0.)),\n",
              "       ((0., 0.), (0., 0., 0.)), ((0., 0.), (0., 0., 0.)),\n",
              "       ((0., 0.), (0., 0., 0.)), ((0., 0.), (0., 0., 0.)),\n",
              "       ((0., 0.), (0., 0., 0.)), ((0., 0.), (0., 0., 0.)),\n",
              "       ((0., 0.), (0., 0., 0.)), ((0., 0.), (0., 0., 0.))],\n",
              "      dtype=[('position', [('x', '<f8'), ('y', '<f8')]), ('color', [('r', '<f8'), ('g', '<f8'), ('b', '<f8')])])"
            ]
          },
          "execution_count": 2,
          "metadata": {},
          "output_type": "execute_result"
        }
      ],
      "source": [
        "np.zeros(10, dtype=[('position',[('x',float),('y',float)]),('color',[('r',float),('g',float),('b',float)])])"
      ]
    },
    {
      "cell_type": "markdown",
      "metadata": {
        "id": "mMLVfRmBlu97"
      },
      "source": [
        "#Ex:52-Consider a random vector with shape (100,2) representing coordinates ,find point by point distances"
      ]
    },
    {
      "cell_type": "code",
      "execution_count": null,
      "metadata": {
        "colab": {
          "base_uri": "https://localhost:8080/"
        },
        "id": "9Sm_qwFpmFCo",
        "outputId": "21b79f2e-1a49-4841-c1e9-fbe1336b2987"
      },
      "outputs": [
        {
          "name": "stdout",
          "output_type": "stream",
          "text": [
            "[[0.         0.39505274 0.01607621 ... 0.08829734 0.3276482  0.12580642]\n",
            " [0.39505274 0.         0.40482392 ... 0.30793986 0.47145729 0.27159436]\n",
            " [0.01607621 0.40482392 0.         ... 0.10027538 0.34200528 0.1377666 ]\n",
            " ...\n",
            " [0.08829734 0.30793986 0.10027538 ... 0.         0.31275754 0.03754427]\n",
            " [0.3276482  0.47145729 0.34200528 ... 0.31275754 0.         0.31189002]\n",
            " [0.12580642 0.27159436 0.1377666  ... 0.03754427 0.31189002 0.        ]]\n"
          ]
        }
      ],
      "source": [
        "a = np.random.random((100,2))\n",
        "distance = np.sqrt(((a-a[:,np.newaxis])**2).sum(axis=2))\n",
        "print(distance)"
      ]
    },
    {
      "cell_type": "markdown",
      "metadata": {
        "id": "YrY1EhXMoCby"
      },
      "source": [
        "#Ex:53-How to convert a float (32 bits) array into an integer (32 bits) in place?()"
      ]
    },
    {
      "cell_type": "code",
      "execution_count": null,
      "metadata": {
        "colab": {
          "base_uri": "https://localhost:8080/"
        },
        "id": "h8VwPwowoz8K",
        "outputId": "c17347cf-5c46-45ab-eb6b-4a5d140abc90"
      },
      "outputs": [
        {
          "name": "stdout",
          "output_type": "stream",
          "text": [
            "[1 2 3]\n"
          ]
        }
      ],
      "source": [
        "A= np.array([1.5,2.3,3.7],\n",
        "dtype=np.float32)\n",
        "A = A.astype(np.int32)\n",
        "print(A)"
      ]
    },
    {
      "cell_type": "markdown",
      "metadata": {
        "id": "vS15mDbxrBm8"
      },
      "source": [
        "#Ex:54-How to read the following file?()\n",
        "1,2,3,4,5    \n",
        "6, , ,7,8      \n",
        " , ,9,10,11"
      ]
    },
    {
      "cell_type": "code",
      "execution_count": null,
      "metadata": {
        "id": "FFTUheX_rfZR"
      },
      "outputs": [],
      "source": [
        "data = np.genfromtxt('file.txt',delimiter=',',dtype=np.int32)\n",
        "print(data)"
      ]
    },
    {
      "cell_type": "markdown",
      "metadata": {
        "id": "EtNWPENmgKc2"
      },
      "source": [
        "#Ex:55-What is the equivalent of enumerate for numpy arrays?()"
      ]
    },
    {
      "cell_type": "code",
      "execution_count": null,
      "metadata": {
        "colab": {
          "base_uri": "https://localhost:8080/"
        },
        "id": "RC_-033fgYoB",
        "outputId": "c5737995-7a4b-4edc-e8d7-16b50a55e25b"
      },
      "outputs": [
        {
          "name": "stdout",
          "output_type": "stream",
          "text": [
            "(0,) 1\n",
            "(1,) 2\n",
            "(2,) 3\n"
          ]
        }
      ],
      "source": [
        "for index,value in np.ndenumerate(np.array([1,2,3])):\n",
        "  print(index,value)"
      ]
    },
    {
      "cell_type": "markdown",
      "metadata": {
        "id": "oWwabFQFh6ne"
      },
      "source": [
        "#Ex:56-Generate a generic 2D Gaussian-like array?()"
      ]
    },
    {
      "cell_type": "code",
      "execution_count": null,
      "metadata": {
        "colab": {
          "base_uri": "https://localhost:8080/"
        },
        "id": "nR1GyjtGiGPI",
        "outputId": "ae862008-8fc2-452b-c539-58116a89c2aa"
      },
      "outputs": [
        {
          "name": "stdout",
          "output_type": "stream",
          "text": [
            "[[0.36787944 0.37531033 0.38273509 ... 0.38273509 0.37531033 0.36787944]\n",
            " [0.37531033 0.38289132 0.39046605 ... 0.39046605 0.38289132 0.37531033]\n",
            " [0.38273509 0.39046605 0.39819064 ... 0.39819064 0.39046605 0.38273509]\n",
            " ...\n",
            " [0.38273509 0.39046605 0.39819064 ... 0.39819064 0.39046605 0.38273509]\n",
            " [0.37531033 0.38289132 0.39046605 ... 0.39046605 0.38289132 0.37531033]\n",
            " [0.36787944 0.37531033 0.38273509 ... 0.38273509 0.37531033 0.36787944]]\n"
          ]
        }
      ],
      "source": [
        "x,y = np.meshgrid(np.linspace(-1,1,100),np.linspace(-1,1,100))\n",
        "d = np.sqrt(x*x+y*y)\n",
        "sigma,mu = 1.0,0.0\n",
        "gaussian = np.exp(-((d-mu)**2)/(2*sigma**2))\n",
        "print(gaussian)"
      ]
    },
    {
      "cell_type": "markdown",
      "metadata": {
        "id": "aBzY9b9vjivL"
      },
      "source": [
        "#Ex:57-How to randomly place p elements in a 2D array?()"
      ]
    },
    {
      "cell_type": "code",
      "execution_count": null,
      "metadata": {
        "colab": {
          "base_uri": "https://localhost:8080/"
        },
        "id": "Ss0k4lFSjvQs",
        "outputId": "4bbc9da3-068b-45a1-8079-6447f29147d6"
      },
      "outputs": [
        {
          "name": "stdout",
          "output_type": "stream",
          "text": [
            "[[0. 0. 0. 0. 0. 1. 0. 0. 0. 0.]\n",
            " [0. 0. 0. 0. 0. 0. 0. 0. 0. 0.]\n",
            " [0. 0. 0. 0. 0. 0. 0. 0. 0. 0.]\n",
            " [0. 0. 0. 0. 0. 0. 0. 0. 0. 0.]\n",
            " [0. 0. 0. 0. 0. 0. 0. 0. 0. 0.]\n",
            " [1. 0. 0. 0. 0. 0. 0. 0. 0. 0.]\n",
            " [0. 0. 1. 0. 0. 0. 0. 0. 0. 0.]\n",
            " [0. 0. 0. 0. 0. 0. 0. 0. 0. 0.]\n",
            " [0. 0. 0. 0. 0. 0. 1. 0. 1. 0.]\n",
            " [0. 0. 0. 0. 0. 0. 0. 0. 0. 0.]]\n"
          ]
        }
      ],
      "source": [
        "n = 10\n",
        "p = 5\n",
        "Z = np.zeros((n,n))\n",
        "indices = np.random.choice(n*n,p,replace=False)\n",
        "Z[np.unravel_index(indices,(n,n))] = 1\n",
        "print(Z)"
      ]
    },
    {
      "cell_type": "markdown",
      "metadata": {
        "id": "3kTSu4PckxKQ"
      },
      "source": [
        "#Ex:58-Subtract the mean of each row of a matrix()"
      ]
    },
    {
      "cell_type": "code",
      "execution_count": null,
      "metadata": {
        "colab": {
          "base_uri": "https://localhost:8080/"
        },
        "id": "o4S0g-0Ik9LB",
        "outputId": "2f3a4f95-cf93-4b12-f203-f8e1d5c6d8a0"
      },
      "outputs": [
        {
          "name": "stdout",
          "output_type": "stream",
          "text": [
            "[[-0.54205336 -0.46943607 -0.13574469  0.30114042  0.27997835  0.43806267\n",
            "   0.14105171 -0.00267804  0.29484353 -0.30516451]\n",
            " [-0.20609973  0.16455499  0.14858946  0.37264542  0.42818972 -0.38252829\n",
            "  -0.18486816 -0.15321193 -0.10875073 -0.07852075]\n",
            " [ 0.13194334 -0.08816827 -0.64708309  0.15560354  0.15898655 -0.04347239\n",
            "   0.10960351  0.23499592  0.04297091 -0.05538003]\n",
            " [ 0.15031873  0.38571501 -0.59377879  0.2702508   0.29075564 -0.01510616\n",
            "  -0.16008515 -0.21873167 -0.06497966 -0.04435875]\n",
            " [ 0.15100424 -0.09801885 -0.2496936   0.14745776 -0.31956224  0.46347839\n",
            "  -0.03978454 -0.08016429  0.08379713 -0.058514  ]]\n"
          ]
        }
      ],
      "source": [
        "X = np.random.random((5,10))\n",
        "Y = X - X.mean(axis=1, keepdims=True)\n",
        "print(Y)"
      ]
    },
    {
      "cell_type": "markdown",
      "metadata": {
        "id": "REDYRo6FvBy_"
      },
      "source": [
        "#Ex:59-How to sort an array by the nth column?"
      ]
    },
    {
      "cell_type": "code",
      "execution_count": null,
      "metadata": {
        "colab": {
          "background_save": true,
          "base_uri": "https://localhost:8080/"
        },
        "id": "qiL_taccvOk0",
        "outputId": "822d3723-b45c-4f03-999f-8a1b233c175d"
      },
      "outputs": [
        {
          "name": "stdout",
          "output_type": "stream",
          "text": [
            "[[0.12241283 0.07466796 0.22680449]\n",
            " [0.23536836 0.10425348 0.11206851]\n",
            " [0.55651108 0.19066206 0.10978693]\n",
            " [0.36223798 0.27503442 0.749249  ]\n",
            " [0.61374832 0.28112989 0.10477962]\n",
            " [0.71695315 0.32995246 0.44487013]\n",
            " [0.78706503 0.572081   0.53674053]\n",
            " [0.63795337 0.82585089 0.54980385]\n",
            " [0.05601597 0.88006408 0.14427892]\n",
            " [0.8866664  0.94850706 0.63533421]]\n"
          ]
        }
      ],
      "source": [
        "A = np.random.random((10,3))\n",
        "A = A[A[:,1].argsort()]\n",
        "print(A)"
      ]
    },
    {
      "cell_type": "markdown",
      "metadata": {
        "id": "xL9WcizlwUsT"
      },
      "source": [
        "#Ex:60-How to tell if a given 2D array has null columns?()"
      ]
    },
    {
      "cell_type": "code",
      "execution_count": null,
      "metadata": {
        "colab": {
          "base_uri": "https://localhost:8080/"
        },
        "id": "0Eub5BQawiel",
        "outputId": "6b00d8a0-eb4c-470b-b6f1-4a4696e7ea9a"
      },
      "outputs": [
        {
          "output_type": "stream",
          "name": "stdout",
          "text": [
            "[False False False False False False False False False False]\n"
          ]
        }
      ],
      "source": [
        "x = np.random.random((10,10))\n",
        "print(~x.any(axis=0))"
      ]
    },
    {
      "cell_type": "markdown",
      "source": [
        "#Ex:61-Find the nearest value from a given value in an array"
      ],
      "metadata": {
        "id": "XcR7wW7S7bTV"
      }
    },
    {
      "cell_type": "code",
      "source": [
        "import numpy as np\n",
        "arr = np.random.uniform(0,100,10)\n",
        "value = 50\n",
        "nearest_value = arr[np.abs(arr-value).argmin()]\n",
        "print(nearest_value)"
      ],
      "metadata": {
        "colab": {
          "base_uri": "https://localhost:8080/"
        },
        "id": "G0lDXYKS7nCq",
        "outputId": "5eee07a9-5810-4edb-fbd0-a6f32e10489f"
      },
      "execution_count": null,
      "outputs": [
        {
          "output_type": "stream",
          "name": "stdout",
          "text": [
            "52.93634986531587\n"
          ]
        }
      ]
    },
    {
      "cell_type": "markdown",
      "source": [
        "#Ex:62-Sum of arrays (1,3) and (3,1) using an iterator"
      ],
      "metadata": {
        "id": "ZkG_Po7a8VJT"
      }
    },
    {
      "cell_type": "code",
      "source": [
        "A = np.arange(3).reshape(1,3)\n",
        "B = np.arange(3).reshape(3,1)\n",
        "iterator = np.nditer([A,B,None])\n",
        "for x,y,z in iterator:\n",
        "  z[...] = x + y\n",
        "print(iterator.operands[2])\n",
        "#"
      ],
      "metadata": {
        "colab": {
          "base_uri": "https://localhost:8080/"
        },
        "id": "2NbcvRMU8jdG",
        "outputId": "d3d7bf68-99ad-4529-8cbd-a52aa2260b0c"
      },
      "execution_count": null,
      "outputs": [
        {
          "output_type": "stream",
          "name": "stdout",
          "text": [
            "[[0 1 2]\n",
            " [1 2 3]\n",
            " [2 3 4]]\n"
          ]
        }
      ]
    },
    {
      "cell_type": "markdown",
      "source": [
        "#Ex:63-Create an array class with name attribute"
      ],
      "metadata": {
        "id": "sRE-A4268-6x"
      }
    },
    {
      "cell_type": "code",
      "source": [
        "class NamedArray(np.ndarray):\n",
        "  def __new__(cls,array,name=\"no name\"):\n",
        "    obj = np.asarray(array).view(cls)\n",
        "    obj.name = name\n",
        "    return obj\n",
        "    def __array_finalize__(self,obj):\n",
        "      if obj is None:\n",
        "        return\n",
        "      self.name = getattr(obj,'name','no name')\n",
        "arr = NamedArray(np.arange(10),'range_10')"
      ],
      "metadata": {
        "id": "qtb1fS3d9HIM"
      },
      "execution_count": null,
      "outputs": []
    },
    {
      "cell_type": "markdown",
      "source": [
        "#Ex:64-Add 1 to each element indexed by another vector (handle repeats)"
      ],
      "metadata": {
        "id": "4WggUNQI9f8O"
      }
    },
    {
      "cell_type": "code",
      "source": [
        "Z = np.ones(10)\n",
        "I = np.random.randint(0,len(Z),20)\n",
        "np.add.at(Z,I,1)\n",
        "print(Z)"
      ],
      "metadata": {
        "colab": {
          "base_uri": "https://localhost:8080/"
        },
        "id": "pyEd73Sg9uX9",
        "outputId": "4439bc77-db69-41b7-ed20-4413435cbf3e"
      },
      "execution_count": null,
      "outputs": [
        {
          "output_type": "stream",
          "name": "stdout",
          "text": [
            "[3. 3. 4. 2. 2. 1. 2. 4. 4. 5.]\n"
          ]
        }
      ]
    },
    {
      "cell_type": "markdown",
      "source": [
        "#Ex:65-Accumulate elements of vector X into F based on index list I"
      ],
      "metadata": {
        "id": "4sx1j6ie-K8V"
      }
    },
    {
      "cell_type": "code",
      "source": [
        "X = [1,2,3,4,5]\n",
        "I = [0,1,2,3,4]\n",
        "F = np.zeros(5)\n",
        "np.add.at(F,I,X)\n",
        "print(F)"
      ],
      "metadata": {
        "colab": {
          "base_uri": "https://localhost:8080/"
        },
        "id": "HSPXIRQq-W8R",
        "outputId": "df7bb7b9-8ecc-4a47-fca0-2865536666c8"
      },
      "execution_count": null,
      "outputs": [
        {
          "output_type": "stream",
          "name": "stdout",
          "text": [
            "[1. 2. 3. 4. 5.]\n"
          ]
        }
      ]
    },
    {
      "cell_type": "markdown",
      "source": [
        "#Ex:66-Count unique colors in (w,h,3) image"
      ],
      "metadata": {
        "id": "QIEkOE3q-uvU"
      }
    },
    {
      "cell_type": "code",
      "source": [
        "image = np.random.randint(0,2,(10,10,3)).astype(np.ubyte)\n",
        "unique_colors = len(np.unique(image.reshape(-1,image.shape[-1]),axis=0))\n",
        "print(unique_colors)"
      ],
      "metadata": {
        "colab": {
          "base_uri": "https://localhost:8080/"
        },
        "id": "HqYT8Ecs-4-z",
        "outputId": "2f659a00-f669-4477-a1e6-ccde3055c5d6"
      },
      "execution_count": null,
      "outputs": [
        {
          "output_type": "stream",
          "name": "stdout",
          "text": [
            "8\n"
          ]
        }
      ]
    },
    {
      "cell_type": "markdown",
      "source": [
        "#Ex:67-Sum over the last two axis of a 4D array()"
      ],
      "metadata": {
        "id": "p39S2pD6_AWK"
      }
    },
    {
      "cell_type": "code",
      "source": [
        "A = np.random.rand(3,4,5,6)\n",
        "sum_result = A.sum(axis=(-2,-1))\n",
        "print(sum_result)"
      ],
      "metadata": {
        "colab": {
          "base_uri": "https://localhost:8080/"
        },
        "id": "OplbVlVQ_KZU",
        "outputId": "c74d76ec-5e0f-4e22-f231-63f4f0473df5"
      },
      "execution_count": null,
      "outputs": [
        {
          "output_type": "stream",
          "name": "stdout",
          "text": [
            "[[15.70648245 13.48687603 15.72016386 17.05723624]\n",
            " [16.97072541 15.39601141 14.26100793 15.23985511]\n",
            " [16.32452614 15.70878486 12.7040892  16.33049347]]\n"
          ]
        }
      ]
    },
    {
      "cell_type": "markdown",
      "source": [
        "#Ex:68-Compute mean of subsets using subset indices"
      ],
      "metadata": {
        "id": "aIbduHw3_jk8"
      }
    },
    {
      "cell_type": "code",
      "source": [
        "D = np.random.rand(100)\n",
        "S = np.random.randint(0,10,100)\n",
        "mean_result = np.array([np.mean(D[S==i]) for i in range(10)])\n",
        "print(mean_result)"
      ],
      "metadata": {
        "colab": {
          "base_uri": "https://localhost:8080/"
        },
        "id": "R1UulnmS_t1C",
        "outputId": "7bbfdb50-03cf-452b-da25-f8853be44b1c"
      },
      "execution_count": null,
      "outputs": [
        {
          "output_type": "stream",
          "name": "stdout",
          "text": [
            "[0.58587239 0.65611637 0.42384629 0.54965755 0.35401812 0.49986264\n",
            " 0.49338558 0.62970202 0.51352469 0.55658599]\n"
          ]
        }
      ]
    },
    {
      "cell_type": "markdown",
      "source": [
        "#Ex:69-Diagonal of a dot product"
      ],
      "metadata": {
        "id": "mPVKqSqx__tZ"
      }
    },
    {
      "cell_type": "code",
      "source": [
        "A = np.random.random((3,3))\n",
        "B = np.random.random((3,3))\n",
        "dot_product = np.dot(A,B)\n",
        "diagonal = np.diag(dot_product)\n",
        "print(diagonal)"
      ],
      "metadata": {
        "colab": {
          "base_uri": "https://localhost:8080/"
        },
        "id": "sFzfMoweAGc1",
        "outputId": "eda9df1b-dbd5-40cc-a578-d3a2a24c3270"
      },
      "execution_count": null,
      "outputs": [
        {
          "output_type": "stream",
          "name": "stdout",
          "text": [
            "[1.05151703 0.49282809 1.62348802]\n"
          ]
        }
      ]
    },
    {
      "cell_type": "markdown",
      "source": [
        "#Ex:70-New vector with 3 zeros between each value"
      ],
      "metadata": {
        "id": "8s76aXsjAeSB"
      }
    },
    {
      "cell_type": "code",
      "source": [
        "z = np.array([1,2,3,4,5])\n",
        "new_vector = np.zeros(len(z) + (len(z)-1)*3)\n",
        "new_vector[::4] = z\n",
        "print(new_vector)\n"
      ],
      "metadata": {
        "colab": {
          "base_uri": "https://localhost:8080/"
        },
        "id": "rWKXQa3NAoFs",
        "outputId": "8c3f944b-aaa1-49c4-b258-96bc3e65d854"
      },
      "execution_count": null,
      "outputs": [
        {
          "output_type": "stream",
          "name": "stdout",
          "text": [
            "[1. 0. 0. 0. 2. 0. 0. 0. 3. 0. 0. 0. 4. 0. 0. 0. 5.]\n"
          ]
        }
      ]
    },
    {
      "cell_type": "markdown",
      "source": [
        "#Ex:71-Multiply (5,5,3) with (5,5)"
      ],
      "metadata": {
        "id": "P-KceJSzBnQV"
      }
    },
    {
      "cell_type": "code",
      "source": [
        "A = np.ones((5,5,3))\n",
        "B = 2*np.ones((5,5))\n",
        "result = A * B[:,:,None]\n",
        "print(result)\n"
      ],
      "metadata": {
        "colab": {
          "base_uri": "https://localhost:8080/"
        },
        "id": "r6gzbLKKBybJ",
        "outputId": "88688080-c2ca-4b9b-9ad9-c578f4592a7c"
      },
      "execution_count": null,
      "outputs": [
        {
          "output_type": "stream",
          "name": "stdout",
          "text": [
            "[[[2. 2. 2.]\n",
            "  [2. 2. 2.]\n",
            "  [2. 2. 2.]\n",
            "  [2. 2. 2.]\n",
            "  [2. 2. 2.]]\n",
            "\n",
            " [[2. 2. 2.]\n",
            "  [2. 2. 2.]\n",
            "  [2. 2. 2.]\n",
            "  [2. 2. 2.]\n",
            "  [2. 2. 2.]]\n",
            "\n",
            " [[2. 2. 2.]\n",
            "  [2. 2. 2.]\n",
            "  [2. 2. 2.]\n",
            "  [2. 2. 2.]\n",
            "  [2. 2. 2.]]\n",
            "\n",
            " [[2. 2. 2.]\n",
            "  [2. 2. 2.]\n",
            "  [2. 2. 2.]\n",
            "  [2. 2. 2.]\n",
            "  [2. 2. 2.]]\n",
            "\n",
            " [[2. 2. 2.]\n",
            "  [2. 2. 2.]\n",
            "  [2. 2. 2.]\n",
            "  [2. 2. 2.]\n",
            "  [2. 2. 2.]]]\n"
          ]
        }
      ]
    },
    {
      "cell_type": "markdown",
      "source": [
        "#Ex:72-Swap two rows of an array"
      ],
      "metadata": {
        "id": "DrYHSfXVCXkW"
      }
    },
    {
      "cell_type": "code",
      "source": [
        "A = np.array([[1,2,3],[4,5,6]])\n",
        "A[[0,1]] = A[[1,0]]\n",
        "print(A)"
      ],
      "metadata": {
        "colab": {
          "base_uri": "https://localhost:8080/"
        },
        "id": "V2q63oRQCrRE",
        "outputId": "640c48b9-5995-4fa1-e338-a9327616d865"
      },
      "execution_count": null,
      "outputs": [
        {
          "output_type": "stream",
          "name": "stdout",
          "text": [
            "[[4 5 6]\n",
            " [1 2 3]]\n"
          ]
        }
      ]
    },
    {
      "cell_type": "markdown",
      "source": [
        "#Ex:73-Unique line segments from triangles"
      ],
      "metadata": {
        "id": "Ar16ehIcDRYB"
      }
    },
    {
      "cell_type": "code",
      "source": [
        "faces = np.random.randint(0,100,(10,3))\n",
        "F = np.sort(faces[:,[[0,1],[0,2],[1,2]]].reshape(-1,2),axis=1)\n",
        "np.unique(F,axis = 0)"
      ],
      "metadata": {
        "colab": {
          "base_uri": "https://localhost:8080/"
        },
        "id": "xrTy16eXDbwL",
        "outputId": "cacce1be-dc29-42c0-af13-e15806ecd248"
      },
      "execution_count": null,
      "outputs": [
        {
          "output_type": "execute_result",
          "data": {
            "text/plain": [
              "array([[ 0,  9],\n",
              "       [ 0, 33],\n",
              "       [ 3,  6],\n",
              "       [ 3, 13],\n",
              "       [ 5, 19],\n",
              "       [ 5, 89],\n",
              "       [ 6, 13],\n",
              "       [ 8, 25],\n",
              "       [ 8, 44],\n",
              "       [ 9, 33],\n",
              "       [19, 89],\n",
              "       [22, 25],\n",
              "       [22, 33],\n",
              "       [25, 33],\n",
              "       [25, 44],\n",
              "       [27, 59],\n",
              "       [27, 90],\n",
              "       [36, 52],\n",
              "       [36, 79],\n",
              "       [44, 56],\n",
              "       [44, 78],\n",
              "       [52, 79],\n",
              "       [56, 64],\n",
              "       [56, 71],\n",
              "       [56, 78],\n",
              "       [59, 90],\n",
              "       [62, 86],\n",
              "       [62, 99],\n",
              "       [64, 71],\n",
              "       [86, 99]])"
            ]
          },
          "metadata": {},
          "execution_count": 19
        }
      ]
    },
    {
      "cell_type": "markdown",
      "source": [
        "#Ex:74-Recover array A from np.bincount"
      ],
      "metadata": {
        "id": "Uc8NCToREYiT"
      }
    },
    {
      "cell_type": "code",
      "source": [
        "C = np.bincount([1,1,2,3,4,4,6])\n",
        "A = np.repeat(np.arange(len(C)),C)\n",
        "print(A)"
      ],
      "metadata": {
        "colab": {
          "base_uri": "https://localhost:8080/"
        },
        "id": "SNex_AuEEhs7",
        "outputId": "06270086-5dc5-4008-b726-163416bcd051"
      },
      "execution_count": null,
      "outputs": [
        {
          "output_type": "stream",
          "name": "stdout",
          "text": [
            "[1 1 2 3 4 4 6]\n"
          ]
        }
      ]
    },
    {
      "cell_type": "markdown",
      "source": [
        "#Ex:75-Sliding window average"
      ],
      "metadata": {
        "id": "MLGKb9orFY-m"
      }
    },
    {
      "cell_type": "code",
      "source": [
        "def moving_average(a,n=3):\n",
        "    ret = np.cumsum(a,dtype=float)\n",
        "    ret[n:] = ret[n:] - ret[:-n]\n",
        "    return  ret[n-1:]/n\n",
        "    Z = np.arange(20)\n",
        "    print(moving_average(Z,n=3))"
      ],
      "metadata": {
        "id": "tvIxwkY1FgZm"
      },
      "execution_count": null,
      "outputs": []
    },
    {
      "cell_type": "markdown",
      "source": [
        "#Ex:76-Rolling window from 1D array"
      ],
      "metadata": {
        "id": "DlkF4FlwG81I"
      }
    },
    {
      "cell_type": "code",
      "source": [
        "Z = np.arange(10)\n",
        "print(np.lib.stride_tricks.sliding_window_view(Z,3))"
      ],
      "metadata": {
        "colab": {
          "base_uri": "https://localhost:8080/"
        },
        "id": "FbkRntG8HN3K",
        "outputId": "96ef3c2d-ecc5-47a6-da1c-beb03f995735"
      },
      "execution_count": null,
      "outputs": [
        {
          "output_type": "stream",
          "name": "stdout",
          "text": [
            "[[0 1 2]\n",
            " [1 2 3]\n",
            " [2 3 4]\n",
            " [3 4 5]\n",
            " [4 5 6]\n",
            " [5 6 7]\n",
            " [6 7 8]\n",
            " [7 8 9]]\n"
          ]
        }
      ]
    },
    {
      "cell_type": "markdown",
      "source": [
        "#Ex:77-Inplace boolean negation or sign change"
      ],
      "metadata": {
        "id": "dDFLXkcTHxXj"
      }
    },
    {
      "cell_type": "code",
      "source": [
        "Z = np.array([True,False,True])\n",
        "np.logical_not(Z,out=Z)\n",
        "Z = np.array([1,-1,0])\n",
        "np.negative(Z,out=Z)\n",
        "print(Z)"
      ],
      "metadata": {
        "colab": {
          "base_uri": "https://localhost:8080/"
        },
        "id": "WvmmbphVH8h6",
        "outputId": "401a5095-5e49-4c60-f093-0ec0a3333078"
      },
      "execution_count": null,
      "outputs": [
        {
          "output_type": "stream",
          "name": "stdout",
          "text": [
            "[-1  1  0]\n"
          ]
        }
      ]
    },
    {
      "cell_type": "markdown",
      "source": [
        "#Ex:78-Distance from point to each line (P0[i],P1[i])"
      ],
      "metadata": {
        "id": "dTqM4u8PIvqh"
      }
    },
    {
      "cell_type": "code",
      "source": [
        "def distance_point_line(p,P0,P1):\n",
        "    return np.linalg.norm(np.cross(P1-P0,P0-p),axis=1)/np.linalg.norm(P1-P0,axis=1)"
      ],
      "metadata": {
        "id": "6Aot1CA-JCaK"
      },
      "execution_count": null,
      "outputs": []
    },
    {
      "cell_type": "markdown",
      "source": [
        "#Ex:79-Distance from each point in P to each line (P0[i],P1[i])"
      ],
      "metadata": {
        "id": "YUYn6B3rKkTw"
      }
    },
    {
      "cell_type": "code",
      "source": [
        "def distance_all_points(p,P0,P1):\n",
        "    return np.array([[np.linalg.norm(np.cross(p1-p0,p0-p))/np.linalg.norm(p1-p0)\n",
        "                             for p0,p1 in\n",
        "      zip(P0,P1)] for p in p])"
      ],
      "metadata": {
        "id": "ChGnPmyIK6Ry"
      },
      "execution_count": null,
      "outputs": []
    },
    {
      "cell_type": "markdown",
      "source": [
        "#Ex:80-Consider an arbitrary array ,write a function that extract a  subpart with a fixed shape and centered on a given element ()"
      ],
      "metadata": {
        "id": "mA_Us8TchLf2"
      }
    },
    {
      "cell_type": "code",
      "source": [
        "\n",
        "import numpy as np\n",
        "def extract_subarray(arr,center,shape,fill_value=111):\n",
        "   arr = np.asarray(arr)\n",
        "   out = np.full(shape,fill_value)\n",
        "   start = [c-s//2 for c,s in zip(center,shape)]\n",
        "   end = [s + st for s,st in zip(shape,start)]\n",
        "\n",
        "   src_slices = [slice(max(0,st),min(e,a.shape[i])) for i,(st,e) in enumerate(zip(start,end))]\n",
        "   dst_slices = [slice(max(0,-st),min(a.shape[i] - st,sh)) for i,(st,sh) in enumerate(zip(start,shape))]\n",
        "   out[tuple(dst_slices)] = arr[tuple(src_slices)]\n",
        "   return out"
      ],
      "metadata": {
        "id": "HDEOPDQ9mBui"
      },
      "execution_count": null,
      "outputs": []
    },
    {
      "cell_type": "markdown",
      "source": [
        "#Ex:81-Generate a rolling window array"
      ],
      "metadata": {
        "id": "rLD8tbqJpTVC"
      }
    },
    {
      "cell_type": "code",
      "source": [
        "z = np.arange(1,15+1)\n",
        "R = np.lib.stride_tricks.sliding_window_view(z,window_shape=4)\n",
        "print(R)"
      ],
      "metadata": {
        "colab": {
          "base_uri": "https://localhost:8080/"
        },
        "id": "ZLAd2VDMpb4w",
        "outputId": "5d46cd76-1661-4cc0-ba37-6b830c67e1c6"
      },
      "execution_count": null,
      "outputs": [
        {
          "output_type": "stream",
          "name": "stdout",
          "text": [
            "[[ 1  2  3  4]\n",
            " [ 2  3  4  5]\n",
            " [ 3  4  5  6]\n",
            " [ 4  5  6  7]\n",
            " [ 5  6  7  8]\n",
            " [ 6  7  8  9]\n",
            " [ 7  8  9 10]\n",
            " [ 8  9 10 11]\n",
            " [ 9 10 11 12]\n",
            " [10 11 12 13]\n",
            " [11 12 13 14]\n",
            " [12 13 14 15]]\n"
          ]
        }
      ]
    },
    {
      "cell_type": "markdown",
      "source": [
        "#Ex:82-Compute a matrix rank"
      ],
      "metadata": {
        "id": "ZkILuJ8FqUda"
      }
    },
    {
      "cell_type": "code",
      "source": [
        "Z = np.random.rand(10,10)\n",
        "rank = np.linalg.matrix_rank(Z)\n",
        "print(rank)\n"
      ],
      "metadata": {
        "colab": {
          "base_uri": "https://localhost:8080/"
        },
        "id": "2hbC9OJ9qaCl",
        "outputId": "624b7a46-b488-4f1c-e028-4e797fa43bd4"
      },
      "execution_count": null,
      "outputs": [
        {
          "output_type": "stream",
          "name": "stdout",
          "text": [
            "10\n"
          ]
        }
      ]
    },
    {
      "cell_type": "markdown",
      "source": [
        "#Ex:83-Find the most frequent value in an array()"
      ],
      "metadata": {
        "id": "Mah5nEanq91x"
      }
    },
    {
      "cell_type": "code",
      "source": [
        "z = np.random.randint(0,10,50)\n",
        "most_freq = np.bincount(z).argmax()\n",
        "print(most_freq)\n"
      ],
      "metadata": {
        "colab": {
          "base_uri": "https://localhost:8080/"
        },
        "id": "K4vTAUuArH0d",
        "outputId": "b0716629-e710-4d25-b89d-e3986f89a7c9"
      },
      "execution_count": null,
      "outputs": [
        {
          "output_type": "stream",
          "name": "stdout",
          "text": [
            "9\n"
          ]
        }
      ]
    },
    {
      "cell_type": "markdown",
      "source": [
        "#Ex:84-Extract all contiguous 3*3 blocks from a random 10*10 matrix"
      ],
      "metadata": {
        "id": "7Xlcyt7YsgFT"
      }
    },
    {
      "cell_type": "code",
      "source": [
        "X = np.random.random((10,10))\n",
        "blocks = np.lib.stride_tricks.sliding_window_view(X,(3,3))\n",
        "print(blocks.shape)"
      ],
      "metadata": {
        "colab": {
          "base_uri": "https://localhost:8080/"
        },
        "id": "LZ2rtm4WtgUJ",
        "outputId": "de262477-a0ba-4ced-ff77-39ca3d023319"
      },
      "execution_count": null,
      "outputs": [
        {
          "output_type": "stream",
          "name": "stdout",
          "text": [
            "(8, 8, 3, 3)\n"
          ]
        }
      ]
    },
    {
      "cell_type": "markdown",
      "source": [
        "#Ex:85-Create a 2D array subclass such that Z[i,j]==Z[j,i]"
      ],
      "metadata": {
        "id": "XZLfiHSRuLpl"
      }
    },
    {
      "cell_type": "code",
      "source": [
        "class symmetricArray(np.ndarray):\n",
        "    def  __getitem__(self,idx):\n",
        "           i,j = idx\n",
        "           return\n",
        "           super().__getitem__((max(i,j),min(i,j)))\n",
        "\n",
        "           z = np.array([[1,2],[3,4]]).view(symmetricArray)\n",
        "           print(z[1,0])\n"
      ],
      "metadata": {
        "id": "M7VN_B4DuYRq"
      },
      "execution_count": null,
      "outputs": []
    },
    {
      "cell_type": "markdown",
      "source": [
        "#Ex:86-Compute the sum of p matrix-vector products(shapes:p matrices of (n,n),p vectors of (n,1),result shape (n,1))"
      ],
      "metadata": {
        "id": "L5qIBFHzv7y4"
      }
    },
    {
      "cell_type": "code",
      "source": [
        "p = 5\n",
        "n= 3\n",
        "matrices = np.random.rand(p,n,n)\n",
        "vectors = np.random.rand(p,n,1)\n",
        "\n",
        "result = np.sum(np.matmul(matrices,vectors),axis=0)\n",
        "print(result.shape)"
      ],
      "metadata": {
        "colab": {
          "base_uri": "https://localhost:8080/"
        },
        "id": "tK30Dt7qwVf3",
        "outputId": "e119038f-87f6-4190-cf70-a7d5ff3b7d51"
      },
      "execution_count": null,
      "outputs": [
        {
          "output_type": "stream",
          "name": "stdout",
          "text": [
            "(3, 1)\n"
          ]
        }
      ]
    },
    {
      "cell_type": "markdown",
      "source": [
        "#Ex:87-Block sum on a 16*16 array (block size = 4*4)"
      ],
      "metadata": {
        "id": "dAnAA1CCw_8t"
      }
    },
    {
      "cell_type": "code",
      "source": [
        "Y = np.random.random((16,16))\n",
        "block_sum = Y.reshape(4,4,4,4).sum(axis=(2,3))\n",
        "print(block_sum.shape)"
      ],
      "metadata": {
        "colab": {
          "base_uri": "https://localhost:8080/"
        },
        "id": "pJaPxonfxKIc",
        "outputId": "811f6b5e-ba98-4e8c-8a26-64f13df33169"
      },
      "execution_count": null,
      "outputs": [
        {
          "output_type": "stream",
          "name": "stdout",
          "text": [
            "(4, 4)\n"
          ]
        }
      ]
    },
    {
      "cell_type": "markdown",
      "source": [
        "#Ex:88-Implement Conway's Game of Life using Numpy"
      ],
      "metadata": {
        "id": "3yGTo9Csx0Wt"
      }
    },
    {
      "cell_type": "code",
      "source": [
        "def game_of_life_step(Z):\n",
        "  neighbors = sum(np.roll(np.roll(Z,i,0),j,1) for i in (-1,0,1)\n",
        "         for j in (-1,0,1) if(i!=0 or j!=0))\n",
        "  return (neighbors == 3) | ((Z == 1) & (neighbors == 2))\n",
        "\n",
        "  Z = np.random.randint(0,2,(5,5))\n",
        "  Z = game_of_life_step(Z)\n"
      ],
      "metadata": {
        "id": "EhXdD2iMyAA8"
      },
      "execution_count": null,
      "outputs": []
    },
    {
      "cell_type": "markdown",
      "source": [
        "#Ex:89-Get the n largest values of an array()"
      ],
      "metadata": {
        "id": "AzepNl7l1WRL"
      }
    },
    {
      "cell_type": "code",
      "source": [
        "Z = np.random.rand(10)\n",
        "n=3\n",
        "largest = Z[np.argsort(Z)[-n:]]\n",
        "print(largest)"
      ],
      "metadata": {
        "colab": {
          "base_uri": "https://localhost:8080/"
        },
        "id": "v_m3-Vn11daJ",
        "outputId": "88697bef-ce37-4034-ac36-ea348c964072"
      },
      "execution_count": null,
      "outputs": [
        {
          "output_type": "stream",
          "name": "stdout",
          "text": [
            "[0.74141798 0.89285552 0.91276894]\n"
          ]
        }
      ]
    },
    {
      "cell_type": "markdown",
      "source": [
        "#Ex:90-Cartesian product from multiple vectors"
      ],
      "metadata": {
        "id": "jvil-qd32QCT"
      }
    },
    {
      "cell_type": "code",
      "source": [
        "from itertools import product\n",
        "\n",
        "vectors = [np.array([1,2]),np.array([3,4])]\n",
        "cartesian = np.array(list(product(*vectors)))\n",
        "print(cartesian)"
      ],
      "metadata": {
        "colab": {
          "base_uri": "https://localhost:8080/"
        },
        "id": "PJrxwoQJ2Zqm",
        "outputId": "a8e00072-bd9c-433e-a656-681c1a9c9e78"
      },
      "execution_count": null,
      "outputs": [
        {
          "output_type": "stream",
          "name": "stdout",
          "text": [
            "[[1 3]\n",
            " [1 4]\n",
            " [2 3]\n",
            " [2 4]]\n"
          ]
        }
      ]
    },
    {
      "cell_type": "markdown",
      "source": [
        "#Ex:91-Create a record array from a regular array()"
      ],
      "metadata": {
        "id": "ycrOUnOs3TQK"
      }
    },
    {
      "cell_type": "code",
      "source": [
        "Z = np.array([[1,2],[3,4]],dtype=[('x','i4'),('y','i4')])\n",
        "print(Z)"
      ],
      "metadata": {
        "colab": {
          "base_uri": "https://localhost:8080/"
        },
        "id": "BpRkLlO73cuj",
        "outputId": "b15b0a61-ba3f-4ba9-c7c6-df680edb10fc"
      },
      "execution_count": null,
      "outputs": [
        {
          "output_type": "stream",
          "name": "stdout",
          "text": [
            "[[(1, 1) (2, 2)]\n",
            " [(3, 3) (4, 4)]]\n"
          ]
        }
      ]
    },
    {
      "cell_type": "markdown",
      "source": [
        "#Ex:92-Compute Z to the power of 3 using 3 different methods()"
      ],
      "metadata": {
        "id": "l8RH_eUO35_Y"
      }
    },
    {
      "cell_type": "code",
      "source": [
        "Z = np.array([1,2,3,4])\n",
        "print(Z ** 3) #method-1\n",
        "print(np.power(Z,3)) #method-2\n",
        "print(np.array([x**3 for x in Z])) #method-3"
      ],
      "metadata": {
        "colab": {
          "base_uri": "https://localhost:8080/"
        },
        "id": "eCdASg7c4H1q",
        "outputId": "44fa2a71-bced-48d5-94e2-249427bae4ec"
      },
      "execution_count": null,
      "outputs": [
        {
          "output_type": "stream",
          "name": "stdout",
          "text": [
            "[ 1  8 27 64]\n",
            "[ 1  8 27 64]\n",
            "[ 1  8 27 64]\n"
          ]
        }
      ]
    },
    {
      "cell_type": "markdown",
      "source": [
        "#Ex:93-Find rows of A that contain all elements of each row of B(order doesn't matter)"
      ],
      "metadata": {
        "id": "kR8jsXO45icW"
      }
    },
    {
      "cell_type": "code",
      "source": [
        "A = np.array([[1,2,3],[5,6,7],[3,1,2],[7,5,6],[8,9,10]])\n",
        "B = np.array([[1,2],[5,6]])\n",
        "\n",
        "result = []\n",
        "for b_row in B:\n",
        "    mask = [np.all(np.isin(b_row,a_row)) for a_row in A]\n",
        "    result.append(A[mask])\n",
        "print(result)"
      ],
      "metadata": {
        "colab": {
          "base_uri": "https://localhost:8080/"
        },
        "id": "Z3E2w840512f",
        "outputId": "1b8af2c2-220e-40ea-bde5-a1fa8795860c"
      },
      "execution_count": null,
      "outputs": [
        {
          "output_type": "stream",
          "name": "stdout",
          "text": [
            "[array([[1, 2, 3],\n",
            "       [3, 1, 2]]), array([[5, 6, 7],\n",
            "       [7, 5, 6]])]\n"
          ]
        }
      ]
    },
    {
      "cell_type": "markdown",
      "source": [
        "#Ex:94-Extract rows with unequal values(e.g.,no duplicates in row)"
      ],
      "metadata": {
        "id": "eSLlT1XF7LUg"
      }
    },
    {
      "cell_type": "code",
      "source": [
        "z = np.array([[1,2,3],[2,2,3],[4,5,6]])\n",
        "unique_rows = z[np.array([len(set(row)) == len(row)\n",
        "         for row in z])]\n",
        "print(unique_rows)"
      ],
      "metadata": {
        "colab": {
          "base_uri": "https://localhost:8080/"
        },
        "id": "PmYU9Phz7Zja",
        "outputId": "6ac97ee4-7255-4fcb-9c5e-ee6f751e6e71"
      },
      "execution_count": null,
      "outputs": [
        {
          "output_type": "stream",
          "name": "stdout",
          "text": [
            "[[1 2 3]\n",
            " [4 5 6]]\n"
          ]
        }
      ]
    },
    {
      "cell_type": "markdown",
      "source": [
        "#Ex:95-Convert a vector of ints into matrix binary representation"
      ],
      "metadata": {
        "id": "NFJQE9i-8Muu"
      }
    },
    {
      "cell_type": "code",
      "source": [
        "Z = np.array([1,2,3,4])\n",
        "binary_matrix = ((Z[:,None] & (1 << np.arange(8))) > 0).astype(int)\n",
        "print(binary_matrix)"
      ],
      "metadata": {
        "colab": {
          "base_uri": "https://localhost:8080/"
        },
        "id": "pZAaRTmA8Xc4",
        "outputId": "1b94d0e8-08f9-4e52-bb2e-40e1ba8a1fde"
      },
      "execution_count": null,
      "outputs": [
        {
          "output_type": "stream",
          "name": "stdout",
          "text": [
            "[[1 0 0 0 0 0 0 0]\n",
            " [0 1 0 0 0 0 0 0]\n",
            " [1 1 0 0 0 0 0 0]\n",
            " [0 0 1 0 0 0 0 0]]\n"
          ]
        }
      ]
    },
    {
      "cell_type": "markdown",
      "source": [
        "#Ex:96-Extract unique rows from a 2D array()"
      ],
      "metadata": {
        "id": "aCxyFJ_186xG"
      }
    },
    {
      "cell_type": "code",
      "source": [
        "z= np.array([[1,2],[3,4],[1,2],[5,6]])\n",
        "unique_rows = np.unique(z,axis=0)\n",
        "print(unique_rows)\n"
      ],
      "metadata": {
        "colab": {
          "base_uri": "https://localhost:8080/"
        },
        "id": "NNcf7htE9Dse",
        "outputId": "f3833f3a-5fab-4e45-e548-5057106de871"
      },
      "execution_count": null,
      "outputs": [
        {
          "output_type": "stream",
          "name": "stdout",
          "text": [
            "[[1 2]\n",
            " [3 4]\n",
            " [5 6]]\n"
          ]
        }
      ]
    },
    {
      "cell_type": "markdown",
      "source": [
        "#Ex:97-einsum for inner,outer,sum,and multiply"
      ],
      "metadata": {
        "id": "PE3r400d9wOX"
      }
    },
    {
      "cell_type": "code",
      "source": [
        "A = np.array([1,2])\n",
        "B = np.array([3,4])\n",
        "\n",
        "print(np.einsum('i,i->',A,B))   #inner product\n",
        "print(np.einsum('i,j->ij',A,B)) #outer product\n",
        "print(np.einsum('i->',A))        #sum\n",
        "print(np.einsum('i,i->i',A,B))   #multiplication"
      ],
      "metadata": {
        "colab": {
          "base_uri": "https://localhost:8080/"
        },
        "id": "CYKcmRDs94UZ",
        "outputId": "0ae64e67-f910-4d98-ca9f-c1cded4dbc24"
      },
      "execution_count": null,
      "outputs": [
        {
          "output_type": "stream",
          "name": "stdout",
          "text": [
            "11\n",
            "[[3 4]\n",
            " [6 8]]\n",
            "3\n",
            "[3 8]\n"
          ]
        }
      ]
    },
    {
      "cell_type": "markdown",
      "source": [
        "#Ex:98-Sample a path (X,Y) using equidistant points()"
      ],
      "metadata": {
        "id": "I7N1VN6n_DlR"
      }
    },
    {
      "cell_type": "code",
      "source": [
        "X = np.linspace(0,10,10)\n",
        "Y = np.sin(X)\n",
        "\n",
        "\n",
        "dist = np.sqrt(np.diff(X)**2 + np.diff(Y)**2)\n",
        "cumdist = np.concatenate([[0],np.cumsum(dist)])\n",
        "target = np.linspace(0,cumdist[-1],50)\n",
        "from scipy.interpolate import interp1d\n",
        "fx = interp1d(cumdist,X)\n",
        "fy = interp1d(cumdist,Y)\n",
        "x_interp = fx(target)\n",
        "y_interp = fy(target)\n",
        "print(x_interp)\n",
        "print(y_interp)"
      ],
      "metadata": {
        "colab": {
          "base_uri": "https://localhost:8080/"
        },
        "id": "JcGDwtQp_X7o",
        "outputId": "f80f5e50-2719-4ebe-8628-adac93450c99"
      },
      "execution_count": null,
      "outputs": [
        {
          "output_type": "stream",
          "name": "stdout",
          "text": [
            "[ 0.          0.1917851   0.3835702   0.5753553   0.76714039  0.95892549\n",
            "  1.16177742  1.4071605   1.65254359  1.89792667  2.14330976  2.34726085\n",
            "  2.53157182  2.7158828   2.90019378  3.08450476  3.26881573  3.46475232\n",
            "  3.66695015  3.86914797  4.0713458   4.27354363  4.48127043  4.7191888\n",
            "  4.95710716  5.19502552  5.43294388  5.64276735  5.82271605  6.00266474\n",
            "  6.18261344  6.36256213  6.54251083  6.73330254  6.94822321  7.16314389\n",
            "  7.37806456  7.59298524  7.80941803  8.03512546  8.2608329   8.48654033\n",
            "  8.71224777  8.92773853  9.10644877  9.28515902  9.46386926  9.64257951\n",
            "  9.82128975 10.        ]\n",
            "[ 0.          0.15468868  0.30937736  0.46406604  0.61875471  0.77344339\n",
            "  0.8915879   0.86928873  0.84698956  0.82469039  0.80239122  0.68428464\n",
            "  0.52076224  0.35723984  0.19371744  0.03019504 -0.13332735 -0.28208476\n",
            " -0.42289012 -0.56369548 -0.70450084 -0.84530619 -0.9544001  -0.8903301\n",
            " -0.8262601  -0.76219011 -0.69812011 -0.58352993 -0.41521897 -0.24690801\n",
            " -0.07859705  0.08971391  0.25802486  0.41151077  0.53200647  0.65250218\n",
            "  0.77299788  0.89349359  0.98324443  0.88442001  0.78559559  0.68677117\n",
            "  0.58794676  0.47373099  0.30410564  0.13448029 -0.03514506 -0.20477041\n",
            " -0.37439576 -0.54402111]\n"
          ]
        }
      ]
    },
    {
      "cell_type": "markdown",
      "source": [
        "#Ex:99-Given an integer n and a 2D array X,select from X the rows which can be interpreted as draws from a multinomial distribution with n degrees i.e,the rows which only contain integers and which sum to n()"
      ],
      "metadata": {
        "id": "-FJmZ8sLArlH"
      }
    },
    {
      "cell_type": "code",
      "source": [
        "X = np.array([[1,1,2],[0.5,1.5,2],[2,2,0],[1,1,1]])\n",
        "\n",
        "mask = (np.all(X == X.astype(int),axis=1)) & (np.sum(X,axis=1) == n)\n",
        "result = X[mask]\n",
        "print(result)"
      ],
      "metadata": {
        "colab": {
          "base_uri": "https://localhost:8080/"
        },
        "id": "3rGHqsq7BmHf",
        "outputId": "b416aa48-bb50-49b2-c6fc-d3e97a864941"
      },
      "execution_count": null,
      "outputs": [
        {
          "output_type": "stream",
          "name": "stdout",
          "text": [
            "[[1. 1. 1.]]\n"
          ]
        }
      ]
    },
    {
      "cell_type": "markdown",
      "source": [
        "#Ex:100-Complete bootstrapped 95% confidence interval for the mean of a 1D array()"
      ],
      "metadata": {
        "id": "JuadpjgNCUut"
      }
    },
    {
      "cell_type": "code",
      "source": [
        "X = np.random.rand(1000)\n",
        "N = 1000\n",
        "\n",
        "means = [np.mean(np.random.choice(X,size=len(X),replace=True)) for _ in range(N)]\n",
        "conf_int = np.percentile(means,[2.5,97.5])\n",
        "print(\"95% confidence interval:\",conf_int)"
      ],
      "metadata": {
        "colab": {
          "base_uri": "https://localhost:8080/"
        },
        "id": "4z7xXFh4Clnm",
        "outputId": "a2d657fc-e3ab-4f74-fb12-dedbffe58fa8"
      },
      "execution_count": null,
      "outputs": [
        {
          "output_type": "stream",
          "name": "stdout",
          "text": [
            "95% confidence interval: [0.46047542 0.49659871]\n"
          ]
        }
      ]
    }
  ],
  "metadata": {
    "colab": {
      "provenance": [],
      "authorship_tag": "ABX9TyP8vlaeM09t+Ll+q95DT46I",
      "include_colab_link": true
    },
    "kernelspec": {
      "display_name": "Python 3",
      "name": "python3"
    },
    "language_info": {
      "name": "python"
    }
  },
  "nbformat": 4,
  "nbformat_minor": 0
}